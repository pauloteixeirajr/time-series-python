{
 "cells": [
  {
   "cell_type": "markdown",
   "metadata": {},
   "source": [
    "## Importing the relevant packages"
   ]
  },
  {
   "cell_type": "code",
   "execution_count": 1,
   "metadata": {},
   "outputs": [],
   "source": [
    "import pandas as pd\n",
    "import numpy as np\n",
    "import matplotlib.pyplot as plt\n",
    "import statsmodels.graphics.tsaplots as sgt\n",
    "import statsmodels.tsa.stattools as sts\n",
    "from statsmodels.tsa.arima_model import ARMA\n",
    "from scipy.stats.distributions import chi2\n",
    "from math import sqrt\n",
    "import seaborn as sns\n",
    "sns.set()"
   ]
  },
  {
   "cell_type": "markdown",
   "metadata": {},
   "source": [
    "## Importing the Data and Pre-processing"
   ]
  },
  {
   "cell_type": "code",
   "execution_count": 2,
   "metadata": {},
   "outputs": [],
   "source": [
    "raw_csv_data = pd.read_csv('data/Index2018.csv')\n",
    "df_comp = raw_csv_data.copy()\n",
    "df_comp.date = pd.to_datetime(df_comp.date, dayfirst = True)\n",
    "df_comp.set_index('date', inplace = True)\n",
    "df_comp = df_comp.asfreq('b')\n",
    "df_comp = df_comp.fillna(method = 'ffill')"
   ]
  },
  {
   "cell_type": "code",
   "execution_count": 3,
   "metadata": {},
   "outputs": [],
   "source": [
    "df_comp['market_value'] = df_comp.ftse"
   ]
  },
  {
   "cell_type": "code",
   "execution_count": 4,
   "metadata": {},
   "outputs": [],
   "source": [
    "del df_comp['spx']\n",
    "del df_comp['dax']\n",
    "del df_comp['ftse']\n",
    "del df_comp['nikkei']\n",
    "size = int(len(df_comp) * 0.8)\n",
    "df, df_test = df_comp.iloc[:size], df_comp.iloc[size:]"
   ]
  },
  {
   "cell_type": "markdown",
   "metadata": {},
   "source": [
    "## The LLR Test"
   ]
  },
  {
   "cell_type": "code",
   "execution_count": 5,
   "metadata": {},
   "outputs": [],
   "source": [
    "def llr_test(mod_1, mod_2, DF = 1):\n",
    "    L1 = mod_1.fit().llf\n",
    "    L2 = mod_2.fit().llf\n",
    "    LR = (2 * (L2 - L1))\n",
    "    p = chi2.sf(LR, DF).round(3)\n",
    "    return p"
   ]
  },
  {
   "cell_type": "code",
   "execution_count": 6,
   "metadata": {},
   "outputs": [],
   "source": [
    "import warnings\n",
    "warnings.filterwarnings('ignore')"
   ]
  },
  {
   "cell_type": "markdown",
   "metadata": {},
   "source": [
    "## Creating Returns"
   ]
  },
  {
   "cell_type": "code",
   "execution_count": 7,
   "metadata": {},
   "outputs": [],
   "source": [
    "df['returns'] = df.market_value.pct_change(1) * 100"
   ]
  },
  {
   "cell_type": "markdown",
   "metadata": {},
   "source": [
    "## ACF for Returns"
   ]
  },
  {
   "cell_type": "code",
   "execution_count": 8,
   "metadata": {
    "scrolled": true
   },
   "outputs": [
    {
     "data": {
      "image/png": "[encoded data removed]",
      "text/plain": [
       "<Figure size 432x288 with 1 Axes>"
      ]
     },
     "metadata": {
      "needs_background": "light"
     },
     "output_type": "display_data"
    }
   ],
   "source": [
    "sgt.plot_acf(df.returns[1:], zero = False, lags = 40)\n",
    "plt.title('ACF for Returns', size = 24)\n",
    "plt.show()"
   ]
  },
  {
   "cell_type": "markdown",
   "metadata": {},
   "source": [
    "## MA(1) for Returns"
   ]
  },
  {
   "cell_type": "code",
   "execution_count": 9,
   "metadata": {},
   "outputs": [
    {
     "data": {
      "text/html": [
       "<table class=\"simpletable\">\n",
       "<caption>ARMA Model Results</caption>\n",
       "<tr>\n",
       "  <th>Dep. Variable:</th>      <td>returns</td>     <th>  No. Observations:  </th>   <td>5020</td>   \n",
       "</tr>\n",
       "<tr>\n",
       "  <th>Model:</th>            <td>ARMA(0, 1)</td>    <th>  Log Likelihood     </th> <td>-7929.595</td>\n",
       "</tr>\n",
       "<tr>\n",
       "  <th>Method:</th>             <td>css-mle</td>     <th>  S.D. of innovations</th>   <td>1.174</td>  \n",
       "</tr>\n",
       "<tr>\n",
       "  <th>Date:</th>          <td>Fri, 12 Feb 2021</td> <th>  AIC                </th> <td>15865.190</td>\n",
       "</tr>\n",
       "<tr>\n",
       "  <th>Time:</th>              <td>18:22:12</td>     <th>  BIC                </th> <td>15884.754</td>\n",
       "</tr>\n",
       "<tr>\n",
       "  <th>Sample:</th>           <td>01-10-1994</td>    <th>  HQIC               </th> <td>15872.045</td>\n",
       "</tr>\n",
       "<tr>\n",
       "  <th></th>                 <td>- 04-05-2013</td>   <th>                     </th>     <td> </td>    \n",
       "</tr>\n",
       "</table>\n",
       "<table class=\"simpletable\">\n",
       "<tr>\n",
       "        <td></td>           <th>coef</th>     <th>std err</th>      <th>z</th>      <th>P>|z|</th>  <th>[0.025</th>    <th>0.975]</th>  \n",
       "</tr>\n",
       "<tr>\n",
       "  <th>const</th>         <td>    0.0188</td> <td>    0.016</td> <td>    1.162</td> <td> 0.245</td> <td>   -0.013</td> <td>    0.050</td>\n",
       "</tr>\n",
       "<tr>\n",
       "  <th>ma.L1.returns</th> <td>   -0.0257</td> <td>    0.015</td> <td>   -1.720</td> <td> 0.086</td> <td>   -0.055</td> <td>    0.004</td>\n",
       "</tr>\n",
       "</table>\n",
       "<table class=\"simpletable\">\n",
       "<caption>Roots</caption>\n",
       "<tr>\n",
       "    <td></td>   <th>            Real</th>  <th>         Imaginary</th> <th>         Modulus</th>  <th>        Frequency</th>\n",
       "</tr>\n",
       "<tr>\n",
       "  <th>MA.1</th> <td>          38.8550</td> <td>          +0.0000j</td> <td>          38.8550</td> <td>           0.0000</td>\n",
       "</tr>\n",
       "</table>"
      ],
      "text/plain": [
       "<class 'statsmodels.iolib.summary.Summary'>\n",
       "\"\"\"\n",
       "                              ARMA Model Results                              \n",
       "==============================================================================\n",
       "Dep. Variable:                returns   No. Observations:                 5020\n",
       "Model:                     ARMA(0, 1)   Log Likelihood               -7929.595\n",
       "Method:                       css-mle   S.D. of innovations              1.174\n",
       "Date:                Fri, 12 Feb 2021   AIC                          15865.190\n",
       "Time:                        18:22:12   BIC                          15884.754\n",
       "Sample:                    01-10-1994   HQIC                         15872.045\n",
       "                         - 04-05-2013                                         \n",
       "=================================================================================\n",
       "                    coef    std err          z      P>|z|      [0.025      0.975]\n",
       "---------------------------------------------------------------------------------\n",
       "const             0.0188      0.016      1.162      0.245      -0.013       0.050\n",
       "ma.L1.returns    -0.0257      0.015     -1.720      0.086      -0.055       0.004\n",
       "                                    Roots                                    \n",
       "=============================================================================\n",
       "                  Real          Imaginary           Modulus         Frequency\n",
       "-----------------------------------------------------------------------------\n",
       "MA.1           38.8550           +0.0000j           38.8550            0.0000\n",
       "-----------------------------------------------------------------------------\n",
       "\"\"\""
      ]
     },
     "execution_count": 9,
     "metadata": {},
     "output_type": "execute_result"
    }
   ],
   "source": [
    "model_ret_ma_1 = ARMA(df.returns[1:], order = (0, 1))\n",
    "results_ret_ma_1 = model_ret_ma_1.fit()\n",
    "results_ret_ma_1.summary()"
   ]
  },
  {
   "cell_type": "markdown",
   "metadata": {},
   "source": [
    "## Higher-Lag MA Models for Returns"
   ]
  },
  {
   "cell_type": "code",
   "execution_count": 10,
   "metadata": {},
   "outputs": [
    {
     "data": {
      "text/html": [
       "<table class=\"simpletable\">\n",
       "<caption>ARMA Model Results</caption>\n",
       "<tr>\n",
       "  <th>Dep. Variable:</th>      <td>returns</td>     <th>  No. Observations:  </th>   <td>5020</td>   \n",
       "</tr>\n",
       "<tr>\n",
       "  <th>Model:</th>            <td>ARMA(0, 2)</td>    <th>  Log Likelihood     </th> <td>-7922.864</td>\n",
       "</tr>\n",
       "<tr>\n",
       "  <th>Method:</th>             <td>css-mle</td>     <th>  S.D. of innovations</th>   <td>1.173</td>  \n",
       "</tr>\n",
       "<tr>\n",
       "  <th>Date:</th>          <td>Fri, 12 Feb 2021</td> <th>  AIC                </th> <td>15853.728</td>\n",
       "</tr>\n",
       "<tr>\n",
       "  <th>Time:</th>              <td>18:22:13</td>     <th>  BIC                </th> <td>15879.812</td>\n",
       "</tr>\n",
       "<tr>\n",
       "  <th>Sample:</th>           <td>01-10-1994</td>    <th>  HQIC               </th> <td>15862.868</td>\n",
       "</tr>\n",
       "<tr>\n",
       "  <th></th>                 <td>- 04-05-2013</td>   <th>                     </th>     <td> </td>    \n",
       "</tr>\n",
       "</table>\n",
       "<table class=\"simpletable\">\n",
       "<tr>\n",
       "        <td></td>           <th>coef</th>     <th>std err</th>      <th>z</th>      <th>P>|z|</th>  <th>[0.025</th>    <th>0.975]</th>  \n",
       "</tr>\n",
       "<tr>\n",
       "  <th>const</th>         <td>    0.0188</td> <td>    0.015</td> <td>    1.239</td> <td> 0.215</td> <td>   -0.011</td> <td>    0.049</td>\n",
       "</tr>\n",
       "<tr>\n",
       "  <th>ma.L1.returns</th> <td>   -0.0327</td> <td>    0.014</td> <td>   -2.297</td> <td> 0.022</td> <td>   -0.061</td> <td>   -0.005</td>\n",
       "</tr>\n",
       "<tr>\n",
       "  <th>ma.L2.returns</th> <td>   -0.0502</td> <td>    0.014</td> <td>   -3.669</td> <td> 0.000</td> <td>   -0.077</td> <td>   -0.023</td>\n",
       "</tr>\n",
       "</table>\n",
       "<table class=\"simpletable\">\n",
       "<caption>Roots</caption>\n",
       "<tr>\n",
       "    <td></td>   <th>            Real</th>  <th>         Imaginary</th> <th>         Modulus</th>  <th>        Frequency</th>\n",
       "</tr>\n",
       "<tr>\n",
       "  <th>MA.1</th> <td>           4.1499</td> <td>          +0.0000j</td> <td>           4.1499</td> <td>           0.0000</td>\n",
       "</tr>\n",
       "<tr>\n",
       "  <th>MA.2</th> <td>          -4.8004</td> <td>          +0.0000j</td> <td>           4.8004</td> <td>           0.5000</td>\n",
       "</tr>\n",
       "</table>"
      ],
      "text/plain": [
       "<class 'statsmodels.iolib.summary.Summary'>\n",
       "\"\"\"\n",
       "                              ARMA Model Results                              \n",
       "==============================================================================\n",
       "Dep. Variable:                returns   No. Observations:                 5020\n",
       "Model:                     ARMA(0, 2)   Log Likelihood               -7922.864\n",
       "Method:                       css-mle   S.D. of innovations              1.173\n",
       "Date:                Fri, 12 Feb 2021   AIC                          15853.728\n",
       "Time:                        18:22:13   BIC                          15879.812\n",
       "Sample:                    01-10-1994   HQIC                         15862.868\n",
       "                         - 04-05-2013                                         \n",
       "=================================================================================\n",
       "                    coef    std err          z      P>|z|      [0.025      0.975]\n",
       "---------------------------------------------------------------------------------\n",
       "const             0.0188      0.015      1.239      0.215      -0.011       0.049\n",
       "ma.L1.returns    -0.0327      0.014     -2.297      0.022      -0.061      -0.005\n",
       "ma.L2.returns    -0.0502      0.014     -3.669      0.000      -0.077      -0.023\n",
       "                                    Roots                                    \n",
       "=============================================================================\n",
       "                  Real          Imaginary           Modulus         Frequency\n",
       "-----------------------------------------------------------------------------\n",
       "MA.1            4.1499           +0.0000j            4.1499            0.0000\n",
       "MA.2           -4.8004           +0.0000j            4.8004            0.5000\n",
       "-----------------------------------------------------------------------------\n",
       "\"\"\""
      ]
     },
     "execution_count": 10,
     "metadata": {},
     "output_type": "execute_result"
    }
   ],
   "source": [
    "model_ret_ma_2 = ARMA(df.returns[1:], order = (0, 2))\n",
    "results_ret_ma_2 = model_ret_ma_2.fit()\n",
    "results_ret_ma_2.summary()"
   ]
  },
  {
   "cell_type": "code",
   "execution_count": 11,
   "metadata": {},
   "outputs": [
    {
     "data": {
      "text/html": [
       "<table class=\"simpletable\">\n",
       "<caption>ARMA Model Results</caption>\n",
       "<tr>\n",
       "  <th>Dep. Variable:</th>      <td>returns</td>     <th>  No. Observations:  </th>   <td>5020</td>   \n",
       "</tr>\n",
       "<tr>\n",
       "  <th>Model:</th>            <td>ARMA(0, 3)</td>    <th>  Log Likelihood     </th> <td>-7904.317</td>\n",
       "</tr>\n",
       "<tr>\n",
       "  <th>Method:</th>             <td>css-mle</td>     <th>  S.D. of innovations</th>   <td>1.168</td>  \n",
       "</tr>\n",
       "<tr>\n",
       "  <th>Date:</th>          <td>Fri, 12 Feb 2021</td> <th>  AIC                </th> <td>15818.634</td>\n",
       "</tr>\n",
       "<tr>\n",
       "  <th>Time:</th>              <td>18:22:13</td>     <th>  BIC                </th> <td>15851.240</td>\n",
       "</tr>\n",
       "<tr>\n",
       "  <th>Sample:</th>           <td>01-10-1994</td>    <th>  HQIC               </th> <td>15830.060</td>\n",
       "</tr>\n",
       "<tr>\n",
       "  <th></th>                 <td>- 04-05-2013</td>   <th>                     </th>     <td> </td>    \n",
       "</tr>\n",
       "</table>\n",
       "<table class=\"simpletable\">\n",
       "<tr>\n",
       "        <td></td>           <th>coef</th>     <th>std err</th>      <th>z</th>      <th>P>|z|</th>  <th>[0.025</th>    <th>0.975]</th>  \n",
       "</tr>\n",
       "<tr>\n",
       "  <th>const</th>         <td>    0.0189</td> <td>    0.014</td> <td>    1.376</td> <td> 0.169</td> <td>   -0.008</td> <td>    0.046</td>\n",
       "</tr>\n",
       "<tr>\n",
       "  <th>ma.L1.returns</th> <td>   -0.0203</td> <td>    0.014</td> <td>   -1.423</td> <td> 0.155</td> <td>   -0.048</td> <td>    0.008</td>\n",
       "</tr>\n",
       "<tr>\n",
       "  <th>ma.L2.returns</th> <td>   -0.0556</td> <td>    0.013</td> <td>   -4.134</td> <td> 0.000</td> <td>   -0.082</td> <td>   -0.029</td>\n",
       "</tr>\n",
       "<tr>\n",
       "  <th>ma.L3.returns</th> <td>   -0.0904</td> <td>    0.015</td> <td>   -6.121</td> <td> 0.000</td> <td>   -0.119</td> <td>   -0.061</td>\n",
       "</tr>\n",
       "</table>\n",
       "<table class=\"simpletable\">\n",
       "<caption>Roots</caption>\n",
       "<tr>\n",
       "    <td></td>   <th>            Real</th>  <th>         Imaginary</th> <th>         Modulus</th>  <th>        Frequency</th>\n",
       "</tr>\n",
       "<tr>\n",
       "  <th>MA.1</th> <td>           2.0105</td> <td>          -0.0000j</td> <td>           2.0105</td> <td>          -0.0000</td>\n",
       "</tr>\n",
       "<tr>\n",
       "  <th>MA.2</th> <td>          -1.3129</td> <td>          -1.9441j</td> <td>           2.3459</td> <td>          -0.3445</td>\n",
       "</tr>\n",
       "<tr>\n",
       "  <th>MA.3</th> <td>          -1.3129</td> <td>          +1.9441j</td> <td>           2.3459</td> <td>           0.3445</td>\n",
       "</tr>\n",
       "</table>"
      ],
      "text/plain": [
       "<class 'statsmodels.iolib.summary.Summary'>\n",
       "\"\"\"\n",
       "                              ARMA Model Results                              \n",
       "==============================================================================\n",
       "Dep. Variable:                returns   No. Observations:                 5020\n",
       "Model:                     ARMA(0, 3)   Log Likelihood               -7904.317\n",
       "Method:                       css-mle   S.D. of innovations              1.168\n",
       "Date:                Fri, 12 Feb 2021   AIC                          15818.634\n",
       "Time:                        18:22:13   BIC                          15851.240\n",
       "Sample:                    01-10-1994   HQIC                         15830.060\n",
       "                         - 04-05-2013                                         \n",
       "=================================================================================\n",
       "                    coef    std err          z      P>|z|      [0.025      0.975]\n",
       "---------------------------------------------------------------------------------\n",
       "const             0.0189      0.014      1.376      0.169      -0.008       0.046\n",
       "ma.L1.returns    -0.0203      0.014     -1.423      0.155      -0.048       0.008\n",
       "ma.L2.returns    -0.0556      0.013     -4.134      0.000      -0.082      -0.029\n",
       "ma.L3.returns    -0.0904      0.015     -6.121      0.000      -0.119      -0.061\n",
       "                                    Roots                                    \n",
       "=============================================================================\n",
       "                  Real          Imaginary           Modulus         Frequency\n",
       "-----------------------------------------------------------------------------\n",
       "MA.1            2.0105           -0.0000j            2.0105           -0.0000\n",
       "MA.2           -1.3129           -1.9441j            2.3459           -0.3445\n",
       "MA.3           -1.3129           +1.9441j            2.3459            0.3445\n",
       "-----------------------------------------------------------------------------\n",
       "\"\"\""
      ]
     },
     "execution_count": 11,
     "metadata": {},
     "output_type": "execute_result"
    }
   ],
   "source": [
    "model_ret_ma_3 = ARMA(df.returns[1:], order = (0, 3))\n",
    "results_ret_ma_3 = model_ret_ma_3.fit()\n",
    "results_ret_ma_3.summary()"
   ]
  },
  {
   "cell_type": "code",
   "execution_count": 12,
   "metadata": {},
   "outputs": [
    {
     "data": {
      "text/html": [
       "<table class=\"simpletable\">\n",
       "<caption>ARMA Model Results</caption>\n",
       "<tr>\n",
       "  <th>Dep. Variable:</th>      <td>returns</td>     <th>  No. Observations:  </th>   <td>5020</td>   \n",
       "</tr>\n",
       "<tr>\n",
       "  <th>Model:</th>            <td>ARMA(0, 4)</td>    <th>  Log Likelihood     </th> <td>-7898.773</td>\n",
       "</tr>\n",
       "<tr>\n",
       "  <th>Method:</th>             <td>css-mle</td>     <th>  S.D. of innovations</th>   <td>1.167</td>  \n",
       "</tr>\n",
       "<tr>\n",
       "  <th>Date:</th>          <td>Fri, 12 Feb 2021</td> <th>  AIC                </th> <td>15809.547</td>\n",
       "</tr>\n",
       "<tr>\n",
       "  <th>Time:</th>              <td>18:22:14</td>     <th>  BIC                </th> <td>15848.674</td>\n",
       "</tr>\n",
       "<tr>\n",
       "  <th>Sample:</th>           <td>01-10-1994</td>    <th>  HQIC               </th> <td>15823.257</td>\n",
       "</tr>\n",
       "<tr>\n",
       "  <th></th>                 <td>- 04-05-2013</td>   <th>                     </th>     <td> </td>    \n",
       "</tr>\n",
       "</table>\n",
       "<table class=\"simpletable\">\n",
       "<tr>\n",
       "        <td></td>           <th>coef</th>     <th>std err</th>      <th>z</th>      <th>P>|z|</th>  <th>[0.025</th>    <th>0.975]</th>  \n",
       "</tr>\n",
       "<tr>\n",
       "  <th>const</th>         <td>    0.0189</td> <td>    0.014</td> <td>    1.305</td> <td> 0.192</td> <td>   -0.009</td> <td>    0.047</td>\n",
       "</tr>\n",
       "<tr>\n",
       "  <th>ma.L1.returns</th> <td>   -0.0203</td> <td>    0.014</td> <td>   -1.443</td> <td> 0.149</td> <td>   -0.048</td> <td>    0.007</td>\n",
       "</tr>\n",
       "<tr>\n",
       "  <th>ma.L2.returns</th> <td>   -0.0551</td> <td>    0.014</td> <td>   -3.902</td> <td> 0.000</td> <td>   -0.083</td> <td>   -0.027</td>\n",
       "</tr>\n",
       "<tr>\n",
       "  <th>ma.L3.returns</th> <td>   -0.0922</td> <td>    0.015</td> <td>   -6.306</td> <td> 0.000</td> <td>   -0.121</td> <td>   -0.064</td>\n",
       "</tr>\n",
       "<tr>\n",
       "  <th>ma.L4.returns</th> <td>    0.0454</td> <td>    0.014</td> <td>    3.338</td> <td> 0.001</td> <td>    0.019</td> <td>    0.072</td>\n",
       "</tr>\n",
       "</table>\n",
       "<table class=\"simpletable\">\n",
       "<caption>Roots</caption>\n",
       "<tr>\n",
       "    <td></td>   <th>            Real</th>  <th>         Imaginary</th> <th>         Modulus</th>  <th>        Frequency</th>\n",
       "</tr>\n",
       "<tr>\n",
       "  <th>MA.1</th> <td>          -1.2257</td> <td>          -1.4206j</td> <td>           1.8763</td> <td>          -0.3633</td>\n",
       "</tr>\n",
       "<tr>\n",
       "  <th>MA.2</th> <td>          -1.2257</td> <td>          +1.4206j</td> <td>           1.8763</td> <td>           0.3633</td>\n",
       "</tr>\n",
       "<tr>\n",
       "  <th>MA.3</th> <td>           2.2405</td> <td>          -1.1103j</td> <td>           2.5006</td> <td>          -0.0732</td>\n",
       "</tr>\n",
       "<tr>\n",
       "  <th>MA.4</th> <td>           2.2405</td> <td>          +1.1103j</td> <td>           2.5006</td> <td>           0.0732</td>\n",
       "</tr>\n",
       "</table>"
      ],
      "text/plain": [
       "<class 'statsmodels.iolib.summary.Summary'>\n",
       "\"\"\"\n",
       "                              ARMA Model Results                              \n",
       "==============================================================================\n",
       "Dep. Variable:                returns   No. Observations:                 5020\n",
       "Model:                     ARMA(0, 4)   Log Likelihood               -7898.773\n",
       "Method:                       css-mle   S.D. of innovations              1.167\n",
       "Date:                Fri, 12 Feb 2021   AIC                          15809.547\n",
       "Time:                        18:22:14   BIC                          15848.674\n",
       "Sample:                    01-10-1994   HQIC                         15823.257\n",
       "                         - 04-05-2013                                         \n",
       "=================================================================================\n",
       "                    coef    std err          z      P>|z|      [0.025      0.975]\n",
       "---------------------------------------------------------------------------------\n",
       "const             0.0189      0.014      1.305      0.192      -0.009       0.047\n",
       "ma.L1.returns    -0.0203      0.014     -1.443      0.149      -0.048       0.007\n",
       "ma.L2.returns    -0.0551      0.014     -3.902      0.000      -0.083      -0.027\n",
       "ma.L3.returns    -0.0922      0.015     -6.306      0.000      -0.121      -0.064\n",
       "ma.L4.returns     0.0454      0.014      3.338      0.001       0.019       0.072\n",
       "                                    Roots                                    \n",
       "=============================================================================\n",
       "                  Real          Imaginary           Modulus         Frequency\n",
       "-----------------------------------------------------------------------------\n",
       "MA.1           -1.2257           -1.4206j            1.8763           -0.3633\n",
       "MA.2           -1.2257           +1.4206j            1.8763            0.3633\n",
       "MA.3            2.2405           -1.1103j            2.5006           -0.0732\n",
       "MA.4            2.2405           +1.1103j            2.5006            0.0732\n",
       "-----------------------------------------------------------------------------\n",
       "\"\"\""
      ]
     },
     "execution_count": 12,
     "metadata": {},
     "output_type": "execute_result"
    }
   ],
   "source": [
    "model_ret_ma_4 = ARMA(df.returns[1:], order = (0, 4))\n",
    "results_ret_ma_4 = model_ret_ma_4.fit()\n",
    "results_ret_ma_4.summary()"
   ]
  },
  {
   "cell_type": "code",
   "execution_count": 13,
   "metadata": {},
   "outputs": [
    {
     "data": {
      "text/html": [
       "<table class=\"simpletable\">\n",
       "<caption>ARMA Model Results</caption>\n",
       "<tr>\n",
       "  <th>Dep. Variable:</th>      <td>returns</td>     <th>  No. Observations:  </th>   <td>5020</td>   \n",
       "</tr>\n",
       "<tr>\n",
       "  <th>Model:</th>            <td>ARMA(0, 5)</td>    <th>  Log Likelihood     </th> <td>-7892.823</td>\n",
       "</tr>\n",
       "<tr>\n",
       "  <th>Method:</th>             <td>css-mle</td>     <th>  S.D. of innovations</th>   <td>1.166</td>  \n",
       "</tr>\n",
       "<tr>\n",
       "  <th>Date:</th>          <td>Fri, 12 Feb 2021</td> <th>  AIC                </th> <td>15799.645</td>\n",
       "</tr>\n",
       "<tr>\n",
       "  <th>Time:</th>              <td>18:22:14</td>     <th>  BIC                </th> <td>15845.294</td>\n",
       "</tr>\n",
       "<tr>\n",
       "  <th>Sample:</th>           <td>01-10-1994</td>    <th>  HQIC               </th> <td>15815.641</td>\n",
       "</tr>\n",
       "<tr>\n",
       "  <th></th>                 <td>- 04-05-2013</td>   <th>                     </th>     <td> </td>    \n",
       "</tr>\n",
       "</table>\n",
       "<table class=\"simpletable\">\n",
       "<tr>\n",
       "        <td></td>           <th>coef</th>     <th>std err</th>      <th>z</th>      <th>P>|z|</th>  <th>[0.025</th>    <th>0.975]</th>  \n",
       "</tr>\n",
       "<tr>\n",
       "  <th>const</th>         <td>    0.0189</td> <td>    0.014</td> <td>    1.376</td> <td> 0.169</td> <td>   -0.008</td> <td>    0.046</td>\n",
       "</tr>\n",
       "<tr>\n",
       "  <th>ma.L1.returns</th> <td>   -0.0262</td> <td>    0.014</td> <td>   -1.851</td> <td> 0.064</td> <td>   -0.054</td> <td>    0.002</td>\n",
       "</tr>\n",
       "<tr>\n",
       "  <th>ma.L2.returns</th> <td>   -0.0497</td> <td>    0.014</td> <td>   -3.518</td> <td> 0.000</td> <td>   -0.077</td> <td>   -0.022</td>\n",
       "</tr>\n",
       "<tr>\n",
       "  <th>ma.L3.returns</th> <td>   -0.0852</td> <td>    0.015</td> <td>   -5.799</td> <td> 0.000</td> <td>   -0.114</td> <td>   -0.056</td>\n",
       "</tr>\n",
       "<tr>\n",
       "  <th>ma.L4.returns</th> <td>    0.0458</td> <td>    0.014</td> <td>    3.374</td> <td> 0.001</td> <td>    0.019</td> <td>    0.072</td>\n",
       "</tr>\n",
       "<tr>\n",
       "  <th>ma.L5.returns</th> <td>   -0.0500</td> <td>    0.014</td> <td>   -3.454</td> <td> 0.001</td> <td>   -0.078</td> <td>   -0.022</td>\n",
       "</tr>\n",
       "</table>\n",
       "<table class=\"simpletable\">\n",
       "<caption>Roots</caption>\n",
       "<tr>\n",
       "    <td></td>   <th>            Real</th>  <th>         Imaginary</th> <th>         Modulus</th>  <th>        Frequency</th>\n",
       "</tr>\n",
       "<tr>\n",
       "  <th>MA.1</th> <td>          -1.2127</td> <td>          -1.0805j</td> <td>           1.6242</td> <td>          -0.3842</td>\n",
       "</tr>\n",
       "<tr>\n",
       "  <th>MA.2</th> <td>          -1.2127</td> <td>          +1.0805j</td> <td>           1.6242</td> <td>           0.3842</td>\n",
       "</tr>\n",
       "<tr>\n",
       "  <th>MA.3</th> <td>           1.7305</td> <td>          -0.0000j</td> <td>           1.7305</td> <td>          -0.0000</td>\n",
       "</tr>\n",
       "<tr>\n",
       "  <th>MA.4</th> <td>           0.8062</td> <td>          -1.9326j</td> <td>           2.0940</td> <td>          -0.1871</td>\n",
       "</tr>\n",
       "<tr>\n",
       "  <th>MA.5</th> <td>           0.8062</td> <td>          +1.9326j</td> <td>           2.0940</td> <td>           0.1871</td>\n",
       "</tr>\n",
       "</table>"
      ],
      "text/plain": [
       "<class 'statsmodels.iolib.summary.Summary'>\n",
       "\"\"\"\n",
       "                              ARMA Model Results                              \n",
       "==============================================================================\n",
       "Dep. Variable:                returns   No. Observations:                 5020\n",
       "Model:                     ARMA(0, 5)   Log Likelihood               -7892.823\n",
       "Method:                       css-mle   S.D. of innovations              1.166\n",
       "Date:                Fri, 12 Feb 2021   AIC                          15799.645\n",
       "Time:                        18:22:14   BIC                          15845.294\n",
       "Sample:                    01-10-1994   HQIC                         15815.641\n",
       "                         - 04-05-2013                                         \n",
       "=================================================================================\n",
       "                    coef    std err          z      P>|z|      [0.025      0.975]\n",
       "---------------------------------------------------------------------------------\n",
       "const             0.0189      0.014      1.376      0.169      -0.008       0.046\n",
       "ma.L1.returns    -0.0262      0.014     -1.851      0.064      -0.054       0.002\n",
       "ma.L2.returns    -0.0497      0.014     -3.518      0.000      -0.077      -0.022\n",
       "ma.L3.returns    -0.0852      0.015     -5.799      0.000      -0.114      -0.056\n",
       "ma.L4.returns     0.0458      0.014      3.374      0.001       0.019       0.072\n",
       "ma.L5.returns    -0.0500      0.014     -3.454      0.001      -0.078      -0.022\n",
       "                                    Roots                                    \n",
       "=============================================================================\n",
       "                  Real          Imaginary           Modulus         Frequency\n",
       "-----------------------------------------------------------------------------\n",
       "MA.1           -1.2127           -1.0805j            1.6242           -0.3842\n",
       "MA.2           -1.2127           +1.0805j            1.6242            0.3842\n",
       "MA.3            1.7305           -0.0000j            1.7305           -0.0000\n",
       "MA.4            0.8062           -1.9326j            2.0940           -0.1871\n",
       "MA.5            0.8062           +1.9326j            2.0940            0.1871\n",
       "-----------------------------------------------------------------------------\n",
       "\"\"\""
      ]
     },
     "execution_count": 13,
     "metadata": {},
     "output_type": "execute_result"
    }
   ],
   "source": [
    "model_ret_ma_5 = ARMA(df.returns[1:], order = (0, 5))\n",
    "results_ret_ma_5 = model_ret_ma_5.fit()\n",
    "results_ret_ma_5.summary()"
   ]
  },
  {
   "cell_type": "code",
   "execution_count": 14,
   "metadata": {},
   "outputs": [
    {
     "data": {
      "text/html": [
       "<table class=\"simpletable\">\n",
       "<caption>ARMA Model Results</caption>\n",
       "<tr>\n",
       "  <th>Dep. Variable:</th>      <td>returns</td>     <th>  No. Observations:  </th>   <td>5020</td>   \n",
       "</tr>\n",
       "<tr>\n",
       "  <th>Model:</th>            <td>ARMA(0, 6)</td>    <th>  Log Likelihood     </th> <td>-7889.221</td>\n",
       "</tr>\n",
       "<tr>\n",
       "  <th>Method:</th>             <td>css-mle</td>     <th>  S.D. of innovations</th>   <td>1.165</td>  \n",
       "</tr>\n",
       "<tr>\n",
       "  <th>Date:</th>          <td>Fri, 12 Feb 2021</td> <th>  AIC                </th> <td>15794.442</td>\n",
       "</tr>\n",
       "<tr>\n",
       "  <th>Time:</th>              <td>18:22:15</td>     <th>  BIC                </th> <td>15846.612</td>\n",
       "</tr>\n",
       "<tr>\n",
       "  <th>Sample:</th>           <td>01-10-1994</td>    <th>  HQIC               </th> <td>15812.723</td>\n",
       "</tr>\n",
       "<tr>\n",
       "  <th></th>                 <td>- 04-05-2013</td>   <th>                     </th>     <td> </td>    \n",
       "</tr>\n",
       "</table>\n",
       "<table class=\"simpletable\">\n",
       "<tr>\n",
       "        <td></td>           <th>coef</th>     <th>std err</th>      <th>z</th>      <th>P>|z|</th>  <th>[0.025</th>    <th>0.975]</th>  \n",
       "</tr>\n",
       "<tr>\n",
       "  <th>const</th>         <td>    0.0189</td> <td>    0.013</td> <td>    1.430</td> <td> 0.153</td> <td>   -0.007</td> <td>    0.045</td>\n",
       "</tr>\n",
       "<tr>\n",
       "  <th>ma.L1.returns</th> <td>   -0.0237</td> <td>    0.014</td> <td>   -1.682</td> <td> 0.093</td> <td>   -0.051</td> <td>    0.004</td>\n",
       "</tr>\n",
       "<tr>\n",
       "  <th>ma.L2.returns</th> <td>   -0.0486</td> <td>    0.014</td> <td>   -3.436</td> <td> 0.001</td> <td>   -0.076</td> <td>   -0.021</td>\n",
       "</tr>\n",
       "<tr>\n",
       "  <th>ma.L3.returns</th> <td>   -0.0827</td> <td>    0.014</td> <td>   -5.846</td> <td> 0.000</td> <td>   -0.110</td> <td>   -0.055</td>\n",
       "</tr>\n",
       "<tr>\n",
       "  <th>ma.L4.returns</th> <td>    0.0466</td> <td>    0.014</td> <td>    3.434</td> <td> 0.001</td> <td>    0.020</td> <td>    0.073</td>\n",
       "</tr>\n",
       "<tr>\n",
       "  <th>ma.L5.returns</th> <td>   -0.0484</td> <td>    0.014</td> <td>   -3.371</td> <td> 0.001</td> <td>   -0.077</td> <td>   -0.020</td>\n",
       "</tr>\n",
       "<tr>\n",
       "  <th>ma.L6.returns</th> <td>   -0.0387</td> <td>    0.014</td> <td>   -2.682</td> <td> 0.007</td> <td>   -0.067</td> <td>   -0.010</td>\n",
       "</tr>\n",
       "</table>\n",
       "<table class=\"simpletable\">\n",
       "<caption>Roots</caption>\n",
       "<tr>\n",
       "    <td></td>   <th>            Real</th>  <th>         Imaginary</th> <th>         Modulus</th>  <th>        Frequency</th>\n",
       "</tr>\n",
       "<tr>\n",
       "  <th>MA.1</th> <td>           1.5011</td> <td>          -0.0000j</td> <td>           1.5011</td> <td>          -0.0000</td>\n",
       "</tr>\n",
       "<tr>\n",
       "  <th>MA.2</th> <td>           0.8248</td> <td>          -1.4775j</td> <td>           1.6921</td> <td>          -0.1690</td>\n",
       "</tr>\n",
       "<tr>\n",
       "  <th>MA.3</th> <td>           0.8248</td> <td>          +1.4775j</td> <td>           1.6921</td> <td>           0.1690</td>\n",
       "</tr>\n",
       "<tr>\n",
       "  <th>MA.4</th> <td>          -1.0066</td> <td>          -1.2260j</td> <td>           1.5863</td> <td>          -0.3594</td>\n",
       "</tr>\n",
       "<tr>\n",
       "  <th>MA.5</th> <td>          -1.0066</td> <td>          +1.2260j</td> <td>           1.5863</td> <td>           0.3594</td>\n",
       "</tr>\n",
       "<tr>\n",
       "  <th>MA.6</th> <td>          -2.3891</td> <td>          -0.0000j</td> <td>           2.3891</td> <td>          -0.5000</td>\n",
       "</tr>\n",
       "</table>"
      ],
      "text/plain": [
       "<class 'statsmodels.iolib.summary.Summary'>\n",
       "\"\"\"\n",
       "                              ARMA Model Results                              \n",
       "==============================================================================\n",
       "Dep. Variable:                returns   No. Observations:                 5020\n",
       "Model:                     ARMA(0, 6)   Log Likelihood               -7889.221\n",
       "Method:                       css-mle   S.D. of innovations              1.165\n",
       "Date:                Fri, 12 Feb 2021   AIC                          15794.442\n",
       "Time:                        18:22:15   BIC                          15846.612\n",
       "Sample:                    01-10-1994   HQIC                         15812.723\n",
       "                         - 04-05-2013                                         \n",
       "=================================================================================\n",
       "                    coef    std err          z      P>|z|      [0.025      0.975]\n",
       "---------------------------------------------------------------------------------\n",
       "const             0.0189      0.013      1.430      0.153      -0.007       0.045\n",
       "ma.L1.returns    -0.0237      0.014     -1.682      0.093      -0.051       0.004\n",
       "ma.L2.returns    -0.0486      0.014     -3.436      0.001      -0.076      -0.021\n",
       "ma.L3.returns    -0.0827      0.014     -5.846      0.000      -0.110      -0.055\n",
       "ma.L4.returns     0.0466      0.014      3.434      0.001       0.020       0.073\n",
       "ma.L5.returns    -0.0484      0.014     -3.371      0.001      -0.077      -0.020\n",
       "ma.L6.returns    -0.0387      0.014     -2.682      0.007      -0.067      -0.010\n",
       "                                    Roots                                    \n",
       "=============================================================================\n",
       "                  Real          Imaginary           Modulus         Frequency\n",
       "-----------------------------------------------------------------------------\n",
       "MA.1            1.5011           -0.0000j            1.5011           -0.0000\n",
       "MA.2            0.8248           -1.4775j            1.6921           -0.1690\n",
       "MA.3            0.8248           +1.4775j            1.6921            0.1690\n",
       "MA.4           -1.0066           -1.2260j            1.5863           -0.3594\n",
       "MA.5           -1.0066           +1.2260j            1.5863            0.3594\n",
       "MA.6           -2.3891           -0.0000j            2.3891           -0.5000\n",
       "-----------------------------------------------------------------------------\n",
       "\"\"\""
      ]
     },
     "execution_count": 14,
     "metadata": {},
     "output_type": "execute_result"
    }
   ],
   "source": [
    "model_ret_ma_6 = ARMA(df.returns[1:], order = (0, 6))\n",
    "results_ret_ma_6 = model_ret_ma_6.fit()\n",
    "results_ret_ma_6.summary()"
   ]
  },
  {
   "cell_type": "code",
   "execution_count": 15,
   "metadata": {},
   "outputs": [
    {
     "data": {
      "text/html": [
       "<table class=\"simpletable\">\n",
       "<caption>ARMA Model Results</caption>\n",
       "<tr>\n",
       "  <th>Dep. Variable:</th>      <td>returns</td>     <th>  No. Observations:  </th>   <td>5020</td>   \n",
       "</tr>\n",
       "<tr>\n",
       "  <th>Model:</th>            <td>ARMA(0, 7)</td>    <th>  Log Likelihood     </th> <td>-7889.046</td>\n",
       "</tr>\n",
       "<tr>\n",
       "  <th>Method:</th>             <td>css-mle</td>     <th>  S.D. of innovations</th>   <td>1.165</td>  \n",
       "</tr>\n",
       "<tr>\n",
       "  <th>Date:</th>          <td>Fri, 12 Feb 2021</td> <th>  AIC                </th> <td>15796.091</td>\n",
       "</tr>\n",
       "<tr>\n",
       "  <th>Time:</th>              <td>18:22:17</td>     <th>  BIC                </th> <td>15854.782</td>\n",
       "</tr>\n",
       "<tr>\n",
       "  <th>Sample:</th>           <td>01-10-1994</td>    <th>  HQIC               </th> <td>15816.657</td>\n",
       "</tr>\n",
       "<tr>\n",
       "  <th></th>                 <td>- 04-05-2013</td>   <th>                     </th>     <td> </td>    \n",
       "</tr>\n",
       "</table>\n",
       "<table class=\"simpletable\">\n",
       "<tr>\n",
       "        <td></td>           <th>coef</th>     <th>std err</th>      <th>z</th>      <th>P>|z|</th>  <th>[0.025</th>    <th>0.975]</th>  \n",
       "</tr>\n",
       "<tr>\n",
       "  <th>const</th>         <td>    0.0189</td> <td>    0.013</td> <td>    1.418</td> <td> 0.156</td> <td>   -0.007</td> <td>    0.045</td>\n",
       "</tr>\n",
       "<tr>\n",
       "  <th>ma.L1.returns</th> <td>   -0.0247</td> <td>    0.014</td> <td>   -1.739</td> <td> 0.082</td> <td>   -0.052</td> <td>    0.003</td>\n",
       "</tr>\n",
       "<tr>\n",
       "  <th>ma.L2.returns</th> <td>   -0.0488</td> <td>    0.014</td> <td>   -3.454</td> <td> 0.001</td> <td>   -0.077</td> <td>   -0.021</td>\n",
       "</tr>\n",
       "<tr>\n",
       "  <th>ma.L3.returns</th> <td>   -0.0821</td> <td>    0.014</td> <td>   -5.789</td> <td> 0.000</td> <td>   -0.110</td> <td>   -0.054</td>\n",
       "</tr>\n",
       "<tr>\n",
       "  <th>ma.L4.returns</th> <td>    0.0458</td> <td>    0.014</td> <td>    3.360</td> <td> 0.001</td> <td>    0.019</td> <td>    0.073</td>\n",
       "</tr>\n",
       "<tr>\n",
       "  <th>ma.L5.returns</th> <td>   -0.0486</td> <td>    0.014</td> <td>   -3.381</td> <td> 0.001</td> <td>   -0.077</td> <td>   -0.020</td>\n",
       "</tr>\n",
       "<tr>\n",
       "  <th>ma.L6.returns</th> <td>   -0.0390</td> <td>    0.014</td> <td>   -2.702</td> <td> 0.007</td> <td>   -0.067</td> <td>   -0.011</td>\n",
       "</tr>\n",
       "<tr>\n",
       "  <th>ma.L7.returns</th> <td>    0.0085</td> <td>    0.014</td> <td>    0.592</td> <td> 0.554</td> <td>   -0.020</td> <td>    0.037</td>\n",
       "</tr>\n",
       "</table>\n",
       "<table class=\"simpletable\">\n",
       "<caption>Roots</caption>\n",
       "<tr>\n",
       "    <td></td>   <th>            Real</th>  <th>         Imaginary</th> <th>         Modulus</th>  <th>        Frequency</th>\n",
       "</tr>\n",
       "<tr>\n",
       "  <th>MA.1</th> <td>          -0.9690</td> <td>          -1.1814j</td> <td>           1.5279</td> <td>          -0.3593</td>\n",
       "</tr>\n",
       "<tr>\n",
       "  <th>MA.2</th> <td>          -0.9690</td> <td>          +1.1814j</td> <td>           1.5279</td> <td>           0.3593</td>\n",
       "</tr>\n",
       "<tr>\n",
       "  <th>MA.3</th> <td>          -2.0397</td> <td>          -0.0000j</td> <td>           2.0397</td> <td>          -0.5000</td>\n",
       "</tr>\n",
       "<tr>\n",
       "  <th>MA.4</th> <td>           0.7516</td> <td>          -1.5246j</td> <td>           1.6998</td> <td>          -0.1771</td>\n",
       "</tr>\n",
       "<tr>\n",
       "  <th>MA.5</th> <td>           0.7516</td> <td>          +1.5246j</td> <td>           1.6998</td> <td>           0.1771</td>\n",
       "</tr>\n",
       "<tr>\n",
       "  <th>MA.6</th> <td>           1.5538</td> <td>          -0.0000j</td> <td>           1.5538</td> <td>          -0.0000</td>\n",
       "</tr>\n",
       "<tr>\n",
       "  <th>MA.7</th> <td>           5.5175</td> <td>          -0.0000j</td> <td>           5.5175</td> <td>          -0.0000</td>\n",
       "</tr>\n",
       "</table>"
      ],
      "text/plain": [
       "<class 'statsmodels.iolib.summary.Summary'>\n",
       "\"\"\"\n",
       "                              ARMA Model Results                              \n",
       "==============================================================================\n",
       "Dep. Variable:                returns   No. Observations:                 5020\n",
       "Model:                     ARMA(0, 7)   Log Likelihood               -7889.046\n",
       "Method:                       css-mle   S.D. of innovations              1.165\n",
       "Date:                Fri, 12 Feb 2021   AIC                          15796.091\n",
       "Time:                        18:22:17   BIC                          15854.782\n",
       "Sample:                    01-10-1994   HQIC                         15816.657\n",
       "                         - 04-05-2013                                         \n",
       "=================================================================================\n",
       "                    coef    std err          z      P>|z|      [0.025      0.975]\n",
       "---------------------------------------------------------------------------------\n",
       "const             0.0189      0.013      1.418      0.156      -0.007       0.045\n",
       "ma.L1.returns    -0.0247      0.014     -1.739      0.082      -0.052       0.003\n",
       "ma.L2.returns    -0.0488      0.014     -3.454      0.001      -0.077      -0.021\n",
       "ma.L3.returns    -0.0821      0.014     -5.789      0.000      -0.110      -0.054\n",
       "ma.L4.returns     0.0458      0.014      3.360      0.001       0.019       0.073\n",
       "ma.L5.returns    -0.0486      0.014     -3.381      0.001      -0.077      -0.020\n",
       "ma.L6.returns    -0.0390      0.014     -2.702      0.007      -0.067      -0.011\n",
       "ma.L7.returns     0.0085      0.014      0.592      0.554      -0.020       0.037\n",
       "                                    Roots                                    \n",
       "=============================================================================\n",
       "                  Real          Imaginary           Modulus         Frequency\n",
       "-----------------------------------------------------------------------------\n",
       "MA.1           -0.9690           -1.1814j            1.5279           -0.3593\n",
       "MA.2           -0.9690           +1.1814j            1.5279            0.3593\n",
       "MA.3           -2.0397           -0.0000j            2.0397           -0.5000\n",
       "MA.4            0.7516           -1.5246j            1.6998           -0.1771\n",
       "MA.5            0.7516           +1.5246j            1.6998            0.1771\n",
       "MA.6            1.5538           -0.0000j            1.5538           -0.0000\n",
       "MA.7            5.5175           -0.0000j            5.5175           -0.0000\n",
       "-----------------------------------------------------------------------------\n",
       "\"\"\""
      ]
     },
     "execution_count": 15,
     "metadata": {},
     "output_type": "execute_result"
    }
   ],
   "source": [
    "model_ret_ma_7 = ARMA(df.returns[1:], order = (0, 7))\n",
    "results_ret_ma_7 = model_ret_ma_7.fit()\n",
    "results_ret_ma_7.summary()"
   ]
  },
  {
   "cell_type": "code",
   "execution_count": 16,
   "metadata": {},
   "outputs": [
    {
     "data": {
      "text/html": [
       "<table class=\"simpletable\">\n",
       "<caption>ARMA Model Results</caption>\n",
       "<tr>\n",
       "  <th>Dep. Variable:</th>      <td>returns</td>     <th>  No. Observations:  </th>   <td>5020</td>   \n",
       "</tr>\n",
       "<tr>\n",
       "  <th>Model:</th>            <td>ARMA(0, 8)</td>    <th>  Log Likelihood     </th> <td>-7885.603</td>\n",
       "</tr>\n",
       "<tr>\n",
       "  <th>Method:</th>             <td>css-mle</td>     <th>  S.D. of innovations</th>   <td>1.164</td>  \n",
       "</tr>\n",
       "<tr>\n",
       "  <th>Date:</th>          <td>Fri, 12 Feb 2021</td> <th>  AIC                </th> <td>15791.205</td>\n",
       "</tr>\n",
       "<tr>\n",
       "  <th>Time:</th>              <td>18:22:19</td>     <th>  BIC                </th> <td>15856.417</td>\n",
       "</tr>\n",
       "<tr>\n",
       "  <th>Sample:</th>           <td>01-10-1994</td>    <th>  HQIC               </th> <td>15814.056</td>\n",
       "</tr>\n",
       "<tr>\n",
       "  <th></th>                 <td>- 04-05-2013</td>   <th>                     </th>     <td> </td>    \n",
       "</tr>\n",
       "</table>\n",
       "<table class=\"simpletable\">\n",
       "<tr>\n",
       "        <td></td>           <th>coef</th>     <th>std err</th>      <th>z</th>      <th>P>|z|</th>  <th>[0.025</th>    <th>0.975]</th>  \n",
       "</tr>\n",
       "<tr>\n",
       "  <th>const</th>         <td>    0.0189</td> <td>    0.014</td> <td>    1.364</td> <td> 0.173</td> <td>   -0.008</td> <td>    0.046</td>\n",
       "</tr>\n",
       "<tr>\n",
       "  <th>ma.L1.returns</th> <td>   -0.0238</td> <td>    0.014</td> <td>   -1.688</td> <td> 0.091</td> <td>   -0.051</td> <td>    0.004</td>\n",
       "</tr>\n",
       "<tr>\n",
       "  <th>ma.L2.returns</th> <td>   -0.0495</td> <td>    0.014</td> <td>   -3.514</td> <td> 0.000</td> <td>   -0.077</td> <td>   -0.022</td>\n",
       "</tr>\n",
       "<tr>\n",
       "  <th>ma.L3.returns</th> <td>   -0.0847</td> <td>    0.014</td> <td>   -5.993</td> <td> 0.000</td> <td>   -0.112</td> <td>   -0.057</td>\n",
       "</tr>\n",
       "<tr>\n",
       "  <th>ma.L4.returns</th> <td>    0.0488</td> <td>    0.014</td> <td>    3.440</td> <td> 0.001</td> <td>    0.021</td> <td>    0.077</td>\n",
       "</tr>\n",
       "<tr>\n",
       "  <th>ma.L5.returns</th> <td>   -0.0518</td> <td>    0.014</td> <td>   -3.634</td> <td> 0.000</td> <td>   -0.080</td> <td>   -0.024</td>\n",
       "</tr>\n",
       "<tr>\n",
       "  <th>ma.L6.returns</th> <td>   -0.0402</td> <td>    0.014</td> <td>   -2.787</td> <td> 0.005</td> <td>   -0.068</td> <td>   -0.012</td>\n",
       "</tr>\n",
       "<tr>\n",
       "  <th>ma.L7.returns</th> <td>    0.0084</td> <td>    0.014</td> <td>    0.587</td> <td> 0.557</td> <td>   -0.020</td> <td>    0.036</td>\n",
       "</tr>\n",
       "<tr>\n",
       "  <th>ma.L8.returns</th> <td>    0.0366</td> <td>    0.014</td> <td>    2.626</td> <td> 0.009</td> <td>    0.009</td> <td>    0.064</td>\n",
       "</tr>\n",
       "</table>\n",
       "<table class=\"simpletable\">\n",
       "<caption>Roots</caption>\n",
       "<tr>\n",
       "    <td></td>   <th>            Real</th>  <th>         Imaginary</th> <th>         Modulus</th>  <th>        Frequency</th>\n",
       "</tr>\n",
       "<tr>\n",
       "  <th>MA.1</th> <td>           1.4716</td> <td>          -0.4282j</td> <td>           1.5326</td> <td>          -0.0451</td>\n",
       "</tr>\n",
       "<tr>\n",
       "  <th>MA.2</th> <td>           1.4716</td> <td>          +0.4282j</td> <td>           1.5326</td> <td>           0.0451</td>\n",
       "</tr>\n",
       "<tr>\n",
       "  <th>MA.3</th> <td>           0.5944</td> <td>          -1.3169j</td> <td>           1.4448</td> <td>          -0.1825</td>\n",
       "</tr>\n",
       "<tr>\n",
       "  <th>MA.4</th> <td>           0.5944</td> <td>          +1.3169j</td> <td>           1.4448</td> <td>           0.1825</td>\n",
       "</tr>\n",
       "<tr>\n",
       "  <th>MA.5</th> <td>          -0.7318</td> <td>          -1.2736j</td> <td>           1.4689</td> <td>          -0.3330</td>\n",
       "</tr>\n",
       "<tr>\n",
       "  <th>MA.6</th> <td>          -0.7318</td> <td>          +1.2736j</td> <td>           1.4689</td> <td>           0.3330</td>\n",
       "</tr>\n",
       "<tr>\n",
       "  <th>MA.7</th> <td>          -1.4485</td> <td>          -0.6983j</td> <td>           1.6081</td> <td>          -0.4285</td>\n",
       "</tr>\n",
       "<tr>\n",
       "  <th>MA.8</th> <td>          -1.4485</td> <td>          +0.6983j</td> <td>           1.6081</td> <td>           0.4285</td>\n",
       "</tr>\n",
       "</table>"
      ],
      "text/plain": [
       "<class 'statsmodels.iolib.summary.Summary'>\n",
       "\"\"\"\n",
       "                              ARMA Model Results                              \n",
       "==============================================================================\n",
       "Dep. Variable:                returns   No. Observations:                 5020\n",
       "Model:                     ARMA(0, 8)   Log Likelihood               -7885.603\n",
       "Method:                       css-mle   S.D. of innovations              1.164\n",
       "Date:                Fri, 12 Feb 2021   AIC                          15791.205\n",
       "Time:                        18:22:19   BIC                          15856.417\n",
       "Sample:                    01-10-1994   HQIC                         15814.056\n",
       "                         - 04-05-2013                                         \n",
       "=================================================================================\n",
       "                    coef    std err          z      P>|z|      [0.025      0.975]\n",
       "---------------------------------------------------------------------------------\n",
       "const             0.0189      0.014      1.364      0.173      -0.008       0.046\n",
       "ma.L1.returns    -0.0238      0.014     -1.688      0.091      -0.051       0.004\n",
       "ma.L2.returns    -0.0495      0.014     -3.514      0.000      -0.077      -0.022\n",
       "ma.L3.returns    -0.0847      0.014     -5.993      0.000      -0.112      -0.057\n",
       "ma.L4.returns     0.0488      0.014      3.440      0.001       0.021       0.077\n",
       "ma.L5.returns    -0.0518      0.014     -3.634      0.000      -0.080      -0.024\n",
       "ma.L6.returns    -0.0402      0.014     -2.787      0.005      -0.068      -0.012\n",
       "ma.L7.returns     0.0084      0.014      0.587      0.557      -0.020       0.036\n",
       "ma.L8.returns     0.0366      0.014      2.626      0.009       0.009       0.064\n",
       "                                    Roots                                    \n",
       "=============================================================================\n",
       "                  Real          Imaginary           Modulus         Frequency\n",
       "-----------------------------------------------------------------------------\n",
       "MA.1            1.4716           -0.4282j            1.5326           -0.0451\n",
       "MA.2            1.4716           +0.4282j            1.5326            0.0451\n",
       "MA.3            0.5944           -1.3169j            1.4448           -0.1825\n",
       "MA.4            0.5944           +1.3169j            1.4448            0.1825\n",
       "MA.5           -0.7318           -1.2736j            1.4689           -0.3330\n",
       "MA.6           -0.7318           +1.2736j            1.4689            0.3330\n",
       "MA.7           -1.4485           -0.6983j            1.6081           -0.4285\n",
       "MA.8           -1.4485           +0.6983j            1.6081            0.4285\n",
       "-----------------------------------------------------------------------------\n",
       "\"\"\""
      ]
     },
     "execution_count": 16,
     "metadata": {},
     "output_type": "execute_result"
    }
   ],
   "source": [
    "model_ret_ma_8 = ARMA(df.returns[1:], order = (0, 8))\n",
    "results_ret_ma_8 = model_ret_ma_8.fit()\n",
    "results_ret_ma_8.summary()"
   ]
  },
  {
   "cell_type": "markdown",
   "metadata": {},
   "source": [
    "## Residuals for Returns"
   ]
  },
  {
   "cell_type": "code",
   "execution_count": 17,
   "metadata": {},
   "outputs": [],
   "source": [
    "df['res_ret_ma_8'] = results_ret_ma_8.resid[1:]"
   ]
  },
  {
   "cell_type": "code",
   "execution_count": 18,
   "metadata": {},
   "outputs": [
    {
     "data": {
      "text/plain": [
       "1.3555186074875307"
      ]
     },
     "execution_count": 18,
     "metadata": {},
     "output_type": "execute_result"
    }
   ],
   "source": [
    "df.res_ret_ma_8.var()"
   ]
  },
  {
   "cell_type": "code",
   "execution_count": 19,
   "metadata": {},
   "outputs": [
    {
     "data": {
      "text/plain": [
       "-2.2174946622973945e-05"
      ]
     },
     "execution_count": 19,
     "metadata": {},
     "output_type": "execute_result"
    }
   ],
   "source": [
    "df.res_ret_ma_8.mean()"
   ]
  },
  {
   "cell_type": "code",
   "execution_count": 20,
   "metadata": {},
   "outputs": [
    {
     "data": {
      "image/png": "[encoded data removed]",
      "text/plain": [
       "<Figure size 1440x360 with 1 Axes>"
      ]
     },
     "metadata": {
      "needs_background": "light"
     },
     "output_type": "display_data"
    }
   ],
   "source": [
    "df.res_ret_ma_8[1:].plot(figsize = (20, 5))\n",
    "plt.title('Residuals of Returns', size = 24)\n",
    "plt.show()"
   ]
  },
  {
   "cell_type": "code",
   "execution_count": 21,
   "metadata": {},
   "outputs": [
    {
     "data": {
      "text/plain": [
       "(-70.83581947210831,\n",
       " 0.0,\n",
       " 0,\n",
       " 5018,\n",
       " {'1%': -3.4316538358533277,\n",
       "  '5%': -2.8621161549128313,\n",
       "  '10%': -2.567076687880585},\n",
       " 15684.05218486794)"
      ]
     },
     "execution_count": 21,
     "metadata": {},
     "output_type": "execute_result"
    }
   ],
   "source": [
    "sts.adfuller(df.res_ret_ma_8[2:])"
   ]
  },
  {
   "cell_type": "code",
   "execution_count": 22,
   "metadata": {},
   "outputs": [
    {
     "data": {
      "image/png": "[encoded data removed]",
      "text/plain": [
       "<Figure size 432x288 with 1 Axes>"
      ]
     },
     "metadata": {
      "needs_background": "light"
     },
     "output_type": "display_data"
    }
   ],
   "source": [
    "sgt.plot_acf(df.res_ret_ma_8[2:], zero = False, lags = 40)\n",
    "plt.title('ACF of Residuals for Returns', size = 24)\n",
    "plt.show()"
   ]
  },
  {
   "cell_type": "markdown",
   "metadata": {},
   "source": [
    "## Normalized Returns"
   ]
  },
  {
   "cell_type": "code",
   "execution_count": 23,
   "metadata": {},
   "outputs": [],
   "source": [
    "bench_ret = df.returns.iloc[1]\n",
    "df['norm_ret'] = df.returns.div(bench_ret).mul(100)"
   ]
  },
  {
   "cell_type": "code",
   "execution_count": 24,
   "metadata": {},
   "outputs": [
    {
     "data": {
      "image/png": "[encoded data removed]",
      "text/plain": [
       "<Figure size 432x288 with 1 Axes>"
      ]
     },
     "metadata": {
      "needs_background": "light"
     },
     "output_type": "display_data"
    }
   ],
   "source": [
    "sgt.plot_acf(df.norm_ret[1:], zero = False, lags = 40)\n",
    "plt.title('ACF of Normalized Returns', size = 24)\n",
    "plt.show()"
   ]
  },
  {
   "cell_type": "code",
   "execution_count": 25,
   "metadata": {},
   "outputs": [
    {
     "data": {
      "text/html": [
       "<table class=\"simpletable\">\n",
       "<caption>ARMA Model Results</caption>\n",
       "<tr>\n",
       "  <th>Dep. Variable:</th>     <td>norm_ret</td>     <th>  No. Observations:  </th>    <td>5020</td>   \n",
       "</tr>\n",
       "<tr>\n",
       "  <th>Model:</th>            <td>ARMA(0, 8)</td>    <th>  Log Likelihood     </th> <td>-40307.597</td>\n",
       "</tr>\n",
       "<tr>\n",
       "  <th>Method:</th>             <td>css-mle</td>     <th>  S.D. of innovations</th>   <td>742.822</td> \n",
       "</tr>\n",
       "<tr>\n",
       "  <th>Date:</th>          <td>Fri, 12 Feb 2021</td> <th>  AIC                </th>  <td>80635.194</td>\n",
       "</tr>\n",
       "<tr>\n",
       "  <th>Time:</th>              <td>18:24:04</td>     <th>  BIC                </th>  <td>80700.406</td>\n",
       "</tr>\n",
       "<tr>\n",
       "  <th>Sample:</th>           <td>01-10-1994</td>    <th>  HQIC               </th>  <td>80658.045</td>\n",
       "</tr>\n",
       "<tr>\n",
       "  <th></th>                 <td>- 04-05-2013</td>   <th>                     </th>      <td> </td>    \n",
       "</tr>\n",
       "</table>\n",
       "<table class=\"simpletable\">\n",
       "<tr>\n",
       "         <td></td>           <th>coef</th>     <th>std err</th>      <th>z</th>      <th>P>|z|</th>  <th>[0.025</th>    <th>0.975]</th>  \n",
       "</tr>\n",
       "<tr>\n",
       "  <th>const</th>          <td>  -11.9731</td> <td>    8.846</td> <td>   -1.354</td> <td> 0.176</td> <td>  -29.311</td> <td>    5.364</td>\n",
       "</tr>\n",
       "<tr>\n",
       "  <th>ma.L1.norm_ret</th> <td>   -0.0238</td> <td>    0.014</td> <td>   -1.688</td> <td> 0.091</td> <td>   -0.051</td> <td>    0.004</td>\n",
       "</tr>\n",
       "<tr>\n",
       "  <th>ma.L2.norm_ret</th> <td>   -0.0495</td> <td>    0.014</td> <td>   -3.514</td> <td> 0.000</td> <td>   -0.077</td> <td>   -0.022</td>\n",
       "</tr>\n",
       "<tr>\n",
       "  <th>ma.L3.norm_ret</th> <td>   -0.0847</td> <td>    0.014</td> <td>   -5.993</td> <td> 0.000</td> <td>   -0.112</td> <td>   -0.057</td>\n",
       "</tr>\n",
       "<tr>\n",
       "  <th>ma.L4.norm_ret</th> <td>    0.0488</td> <td>    0.014</td> <td>    3.440</td> <td> 0.001</td> <td>    0.021</td> <td>    0.077</td>\n",
       "</tr>\n",
       "<tr>\n",
       "  <th>ma.L5.norm_ret</th> <td>   -0.0518</td> <td>    0.014</td> <td>   -3.634</td> <td> 0.000</td> <td>   -0.080</td> <td>   -0.024</td>\n",
       "</tr>\n",
       "<tr>\n",
       "  <th>ma.L6.norm_ret</th> <td>   -0.0402</td> <td>    0.014</td> <td>   -2.787</td> <td> 0.005</td> <td>   -0.068</td> <td>   -0.012</td>\n",
       "</tr>\n",
       "<tr>\n",
       "  <th>ma.L7.norm_ret</th> <td>    0.0084</td> <td>    0.014</td> <td>    0.587</td> <td> 0.557</td> <td>   -0.020</td> <td>    0.036</td>\n",
       "</tr>\n",
       "<tr>\n",
       "  <th>ma.L8.norm_ret</th> <td>    0.0366</td> <td>    0.014</td> <td>    2.626</td> <td> 0.009</td> <td>    0.009</td> <td>    0.064</td>\n",
       "</tr>\n",
       "</table>\n",
       "<table class=\"simpletable\">\n",
       "<caption>Roots</caption>\n",
       "<tr>\n",
       "    <td></td>   <th>            Real</th>  <th>         Imaginary</th> <th>         Modulus</th>  <th>        Frequency</th>\n",
       "</tr>\n",
       "<tr>\n",
       "  <th>MA.1</th> <td>           1.4716</td> <td>          -0.4282j</td> <td>           1.5326</td> <td>          -0.0451</td>\n",
       "</tr>\n",
       "<tr>\n",
       "  <th>MA.2</th> <td>           1.4716</td> <td>          +0.4282j</td> <td>           1.5326</td> <td>           0.0451</td>\n",
       "</tr>\n",
       "<tr>\n",
       "  <th>MA.3</th> <td>           0.5944</td> <td>          -1.3169j</td> <td>           1.4448</td> <td>          -0.1825</td>\n",
       "</tr>\n",
       "<tr>\n",
       "  <th>MA.4</th> <td>           0.5944</td> <td>          +1.3169j</td> <td>           1.4448</td> <td>           0.1825</td>\n",
       "</tr>\n",
       "<tr>\n",
       "  <th>MA.5</th> <td>          -0.7318</td> <td>          -1.2736j</td> <td>           1.4689</td> <td>          -0.3330</td>\n",
       "</tr>\n",
       "<tr>\n",
       "  <th>MA.6</th> <td>          -0.7318</td> <td>          +1.2736j</td> <td>           1.4689</td> <td>           0.3330</td>\n",
       "</tr>\n",
       "<tr>\n",
       "  <th>MA.7</th> <td>          -1.4485</td> <td>          -0.6983j</td> <td>           1.6081</td> <td>          -0.4285</td>\n",
       "</tr>\n",
       "<tr>\n",
       "  <th>MA.8</th> <td>          -1.4485</td> <td>          +0.6983j</td> <td>           1.6081</td> <td>           0.4285</td>\n",
       "</tr>\n",
       "</table>"
      ],
      "text/plain": [
       "<class 'statsmodels.iolib.summary.Summary'>\n",
       "\"\"\"\n",
       "                              ARMA Model Results                              \n",
       "==============================================================================\n",
       "Dep. Variable:               norm_ret   No. Observations:                 5020\n",
       "Model:                     ARMA(0, 8)   Log Likelihood              -40307.597\n",
       "Method:                       css-mle   S.D. of innovations            742.822\n",
       "Date:                Fri, 12 Feb 2021   AIC                          80635.194\n",
       "Time:                        18:24:04   BIC                          80700.406\n",
       "Sample:                    01-10-1994   HQIC                         80658.045\n",
       "                         - 04-05-2013                                         \n",
       "==================================================================================\n",
       "                     coef    std err          z      P>|z|      [0.025      0.975]\n",
       "----------------------------------------------------------------------------------\n",
       "const            -11.9731      8.846     -1.354      0.176     -29.311       5.364\n",
       "ma.L1.norm_ret    -0.0238      0.014     -1.688      0.091      -0.051       0.004\n",
       "ma.L2.norm_ret    -0.0495      0.014     -3.514      0.000      -0.077      -0.022\n",
       "ma.L3.norm_ret    -0.0847      0.014     -5.993      0.000      -0.112      -0.057\n",
       "ma.L4.norm_ret     0.0488      0.014      3.440      0.001       0.021       0.077\n",
       "ma.L5.norm_ret    -0.0518      0.014     -3.634      0.000      -0.080      -0.024\n",
       "ma.L6.norm_ret    -0.0402      0.014     -2.787      0.005      -0.068      -0.012\n",
       "ma.L7.norm_ret     0.0084      0.014      0.587      0.557      -0.020       0.036\n",
       "ma.L8.norm_ret     0.0366      0.014      2.626      0.009       0.009       0.064\n",
       "                                    Roots                                    \n",
       "=============================================================================\n",
       "                  Real          Imaginary           Modulus         Frequency\n",
       "-----------------------------------------------------------------------------\n",
       "MA.1            1.4716           -0.4282j            1.5326           -0.0451\n",
       "MA.2            1.4716           +0.4282j            1.5326            0.0451\n",
       "MA.3            0.5944           -1.3169j            1.4448           -0.1825\n",
       "MA.4            0.5944           +1.3169j            1.4448            0.1825\n",
       "MA.5           -0.7318           -1.2736j            1.4689           -0.3330\n",
       "MA.6           -0.7318           +1.2736j            1.4689            0.3330\n",
       "MA.7           -1.4485           -0.6983j            1.6081           -0.4285\n",
       "MA.8           -1.4485           +0.6983j            1.6081            0.4285\n",
       "-----------------------------------------------------------------------------\n",
       "\"\"\""
      ]
     },
     "execution_count": 25,
     "metadata": {},
     "output_type": "execute_result"
    }
   ],
   "source": [
    "model_norm_ret_ma_8 = ARMA(df.norm_ret[1:], order = (0, 8))\n",
    "results_norm_ret_ma_8 = model_norm_ret_ma_8.fit()\n",
    "results_norm_ret_ma_8.summary()"
   ]
  },
  {
   "cell_type": "markdown",
   "metadata": {},
   "source": [
    "## MA Models for Prices"
   ]
  },
  {
   "cell_type": "code",
   "execution_count": null,
   "metadata": {},
   "outputs": [],
   "source": []
  }
 ],
 "metadata": {
  "kernelspec": {
   "display_name": "Python 3",
   "language": "python",
   "name": "python3"
  },
  "language_info": {
   "codemirror_mode": {
    "name": "ipython",
    "version": 3
   },
   "file_extension": ".py",
   "mimetype": "text/x-python",
   "name": "python",
   "nbconvert_exporter": "python",
   "pygments_lexer": "ipython3",
   "version": "3.7.4"
  }
 },
 "nbformat": 4,
 "nbformat_minor": 2
}
