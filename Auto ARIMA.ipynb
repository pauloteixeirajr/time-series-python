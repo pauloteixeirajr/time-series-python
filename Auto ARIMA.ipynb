{
 "cells": [
  {
   "cell_type": "markdown",
   "metadata": {},
   "source": [
    "## Auto ARIMA Pros & Cons\n",
    "\n",
    "#### Pros\n",
    "- Saves time\n",
    "- Removes ambiguity\n",
    "- Reduce risk of human error\n",
    "\n",
    "#### Cons\n",
    "- Blindly putting our faith in one criterion\n",
    "- Never really see how well the other models perform\n",
    "- Topic expertise"
   ]
  },
  {
   "cell_type": "markdown",
   "metadata": {},
   "source": [
    "## Packages"
   ]
  },
  {
   "cell_type": "code",
   "execution_count": 1,
   "metadata": {},
   "outputs": [],
   "source": [
    "import numpy as np\n",
    "import pandas as pd\n",
    "import scipy\n",
    "import statsmodels.api as sm\n",
    "import matplotlib.pyplot as plt\n",
    "import seaborn as sns\n",
    "import sklearn\n",
    "from statsmodels.tsa.arima_model import ARIMA\n",
    "from arch import arch_model\n",
    "import yfinance\n",
    "import warnings\n",
    "warnings.filterwarnings('ignore')\n",
    "sns.set()"
   ]
  },
  {
   "cell_type": "code",
   "execution_count": 2,
   "metadata": {},
   "outputs": [
    {
     "name": "stdout",
     "output_type": "stream",
     "text": [
      "[*********************100%***********************]  4 of 4 completed\n"
     ]
    }
   ],
   "source": [
    "raw_data = yfinance.download(\n",
    "    tickers = '^GSPC ^FTSE ^N225 ^GDAXI',\n",
    "    start = '1994-01-07', end = '2018-01-29',\n",
    "    interval = '1d', group_by = 'ticker',\n",
    "    auto_adjust = True, treads = True\n",
    ")"
   ]
  },
  {
   "cell_type": "code",
   "execution_count": 3,
   "metadata": {},
   "outputs": [],
   "source": [
    "df_comp = raw_data.copy()"
   ]
  },
  {
   "cell_type": "code",
   "execution_count": 4,
   "metadata": {},
   "outputs": [],
   "source": [
    "df_comp['spx'] = df_comp['^GSPC'].Close[:]\n",
    "df_comp['dax'] = df_comp['^GDAXI'].Close[:]\n",
    "df_comp['ftse'] = df_comp['^FTSE'].Close[:]\n",
    "df_comp['nikkei'] = df_comp['^N225'].Close[:]"
   ]
  },
  {
   "cell_type": "code",
   "execution_count": 5,
   "metadata": {},
   "outputs": [],
   "source": [
    "df_comp = df_comp.iloc[1:]\n",
    "del df_comp['^GSPC']\n",
    "del df_comp['^GDAXI']\n",
    "del df_comp['^FTSE']\n",
    "del df_comp['^N225']\n",
    "df_comp = df_comp.asfreq('b')\n",
    "df_comp = df_comp.fillna(method = 'ffill')"
   ]
  },
  {
   "cell_type": "markdown",
   "metadata": {},
   "source": [
    "## Creating Returns"
   ]
  },
  {
   "cell_type": "code",
   "execution_count": 6,
   "metadata": {},
   "outputs": [],
   "source": [
    "df_comp['ret_spx'] = df_comp.spx.pct_change(1) * 100\n",
    "df_comp['ret_ftse'] = df_comp.ftse.pct_change(1) * 100\n",
    "df_comp['ret_dax'] = df_comp.dax.pct_change(1) * 100\n",
    "df_comp['ret_nikkei'] = df_comp.nikkei.pct_change(1) * 100"
   ]
  },
  {
   "cell_type": "markdown",
   "metadata": {},
   "source": [
    "## Splitting the Data"
   ]
  },
  {
   "cell_type": "code",
   "execution_count": 7,
   "metadata": {},
   "outputs": [],
   "source": [
    "size = int(len(df_comp) * 0.8)\n",
    "df, df_test = df_comp.iloc[:size], df_comp.iloc[size:]"
   ]
  },
  {
   "cell_type": "markdown",
   "metadata": {},
   "source": [
    "## Fitting a Model"
   ]
  },
  {
   "cell_type": "code",
   "execution_count": 8,
   "metadata": {},
   "outputs": [],
   "source": [
    "from pmdarima.arima import auto_arima"
   ]
  },
  {
   "cell_type": "code",
   "execution_count": 9,
   "metadata": {},
   "outputs": [],
   "source": [
    "model_auto = auto_arima(df.ret_ftse[1:])"
   ]
  },
  {
   "cell_type": "code",
   "execution_count": 10,
   "metadata": {},
   "outputs": [
    {
     "data": {
      "text/plain": [
       "ARIMA(callback=None, disp=0, maxiter=None, method=None, order=(4, 0, 5),\n",
       "      out_of_sample_size=0, scoring='mse', scoring_args={},\n",
       "      seasonal_order=(0, 0, 0, 1), solver='lbfgs', start_params=None,\n",
       "      suppress_warnings=False, transparams=True, trend=None,\n",
       "      with_intercept=True)"
      ]
     },
     "execution_count": 10,
     "metadata": {},
     "output_type": "execute_result"
    }
   ],
   "source": [
    "model_auto"
   ]
  },
  {
   "cell_type": "code",
   "execution_count": 11,
   "metadata": {},
   "outputs": [
    {
     "data": {
      "text/html": [
       "<table class=\"simpletable\">\n",
       "<caption>Statespace Model Results</caption>\n",
       "<tr>\n",
       "  <th>Dep. Variable:</th>           <td>y</td>        <th>  No. Observations:  </th>   <td>5019</td>   \n",
       "</tr>\n",
       "<tr>\n",
       "  <th>Model:</th>           <td>SARIMAX(4, 0, 5)</td> <th>  Log Likelihood     </th> <td>-7882.658</td>\n",
       "</tr>\n",
       "<tr>\n",
       "  <th>Date:</th>            <td>Wed, 17 Feb 2021</td> <th>  AIC                </th> <td>15787.316</td>\n",
       "</tr>\n",
       "<tr>\n",
       "  <th>Time:</th>                <td>19:41:53</td>     <th>  BIC                </th> <td>15859.047</td>\n",
       "</tr>\n",
       "<tr>\n",
       "  <th>Sample:</th>                  <td>0</td>        <th>  HQIC               </th> <td>15812.452</td>\n",
       "</tr>\n",
       "<tr>\n",
       "  <th></th>                      <td> - 5019</td>     <th>                     </th>     <td> </td>    \n",
       "</tr>\n",
       "<tr>\n",
       "  <th>Covariance Type:</th>        <td>opg</td>       <th>                     </th>     <td> </td>    \n",
       "</tr>\n",
       "</table>\n",
       "<table class=\"simpletable\">\n",
       "<tr>\n",
       "      <td></td>         <th>coef</th>     <th>std err</th>      <th>z</th>      <th>P>|z|</th>  <th>[0.025</th>    <th>0.975]</th>  \n",
       "</tr>\n",
       "<tr>\n",
       "  <th>intercept</th> <td>    0.0309</td> <td>    0.025</td> <td>    1.246</td> <td> 0.213</td> <td>   -0.018</td> <td>    0.080</td>\n",
       "</tr>\n",
       "<tr>\n",
       "  <th>ar.L1</th>     <td>    0.0135</td> <td>    0.082</td> <td>    0.165</td> <td> 0.869</td> <td>   -0.147</td> <td>    0.174</td>\n",
       "</tr>\n",
       "<tr>\n",
       "  <th>ar.L2</th>     <td>   -0.6690</td> <td>    0.077</td> <td>   -8.645</td> <td> 0.000</td> <td>   -0.821</td> <td>   -0.517</td>\n",
       "</tr>\n",
       "<tr>\n",
       "  <th>ar.L3</th>     <td>   -0.1616</td> <td>    0.072</td> <td>   -2.260</td> <td> 0.024</td> <td>   -0.302</td> <td>   -0.021</td>\n",
       "</tr>\n",
       "<tr>\n",
       "  <th>ar.L4</th>     <td>    0.1898</td> <td>    0.074</td> <td>    2.553</td> <td> 0.011</td> <td>    0.044</td> <td>    0.335</td>\n",
       "</tr>\n",
       "<tr>\n",
       "  <th>ma.L1</th>     <td>   -0.0384</td> <td>    0.081</td> <td>   -0.471</td> <td> 0.637</td> <td>   -0.198</td> <td>    0.121</td>\n",
       "</tr>\n",
       "<tr>\n",
       "  <th>ma.L2</th>     <td>    0.6205</td> <td>    0.078</td> <td>    7.933</td> <td> 0.000</td> <td>    0.467</td> <td>    0.774</td>\n",
       "</tr>\n",
       "<tr>\n",
       "  <th>ma.L3</th>     <td>    0.0592</td> <td>    0.069</td> <td>    0.858</td> <td> 0.391</td> <td>   -0.076</td> <td>    0.194</td>\n",
       "</tr>\n",
       "<tr>\n",
       "  <th>ma.L4</th>     <td>   -0.1836</td> <td>    0.073</td> <td>   -2.510</td> <td> 0.012</td> <td>   -0.327</td> <td>   -0.040</td>\n",
       "</tr>\n",
       "<tr>\n",
       "  <th>ma.L5</th>     <td>   -0.1063</td> <td>    0.010</td> <td>  -11.130</td> <td> 0.000</td> <td>   -0.125</td> <td>   -0.088</td>\n",
       "</tr>\n",
       "<tr>\n",
       "  <th>sigma2</th>    <td>    1.3541</td> <td>    0.015</td> <td>   91.128</td> <td> 0.000</td> <td>    1.325</td> <td>    1.383</td>\n",
       "</tr>\n",
       "</table>\n",
       "<table class=\"simpletable\">\n",
       "<tr>\n",
       "  <th>Ljung-Box (Q):</th>          <td>67.77</td> <th>  Jarque-Bera (JB):  </th> <td>6360.08</td>\n",
       "</tr>\n",
       "<tr>\n",
       "  <th>Prob(Q):</th>                <td>0.00</td>  <th>  Prob(JB):          </th>  <td>0.00</td>  \n",
       "</tr>\n",
       "<tr>\n",
       "  <th>Heteroskedasticity (H):</th> <td>2.00</td>  <th>  Skew:              </th>  <td>-0.19</td> \n",
       "</tr>\n",
       "<tr>\n",
       "  <th>Prob(H) (two-sided):</th>    <td>0.00</td>  <th>  Kurtosis:          </th>  <td>8.50</td>  \n",
       "</tr>\n",
       "</table><br/><br/>Warnings:<br/>[1] Covariance matrix calculated using the outer product of gradients (complex-step)."
      ],
      "text/plain": [
       "<class 'statsmodels.iolib.summary.Summary'>\n",
       "\"\"\"\n",
       "                           Statespace Model Results                           \n",
       "==============================================================================\n",
       "Dep. Variable:                      y   No. Observations:                 5019\n",
       "Model:               SARIMAX(4, 0, 5)   Log Likelihood               -7882.658\n",
       "Date:                Wed, 17 Feb 2021   AIC                          15787.316\n",
       "Time:                        19:41:53   BIC                          15859.047\n",
       "Sample:                             0   HQIC                         15812.452\n",
       "                               - 5019                                         \n",
       "Covariance Type:                  opg                                         \n",
       "==============================================================================\n",
       "                 coef    std err          z      P>|z|      [0.025      0.975]\n",
       "------------------------------------------------------------------------------\n",
       "intercept      0.0309      0.025      1.246      0.213      -0.018       0.080\n",
       "ar.L1          0.0135      0.082      0.165      0.869      -0.147       0.174\n",
       "ar.L2         -0.6690      0.077     -8.645      0.000      -0.821      -0.517\n",
       "ar.L3         -0.1616      0.072     -2.260      0.024      -0.302      -0.021\n",
       "ar.L4          0.1898      0.074      2.553      0.011       0.044       0.335\n",
       "ma.L1         -0.0384      0.081     -0.471      0.637      -0.198       0.121\n",
       "ma.L2          0.6205      0.078      7.933      0.000       0.467       0.774\n",
       "ma.L3          0.0592      0.069      0.858      0.391      -0.076       0.194\n",
       "ma.L4         -0.1836      0.073     -2.510      0.012      -0.327      -0.040\n",
       "ma.L5         -0.1063      0.010    -11.130      0.000      -0.125      -0.088\n",
       "sigma2         1.3541      0.015     91.128      0.000       1.325       1.383\n",
       "===================================================================================\n",
       "Ljung-Box (Q):                       67.77   Jarque-Bera (JB):              6360.08\n",
       "Prob(Q):                              0.00   Prob(JB):                         0.00\n",
       "Heteroskedasticity (H):               2.00   Skew:                            -0.19\n",
       "Prob(H) (two-sided):                  0.00   Kurtosis:                         8.50\n",
       "===================================================================================\n",
       "\n",
       "Warnings:\n",
       "[1] Covariance matrix calculated using the outer product of gradients (complex-step).\n",
       "\"\"\""
      ]
     },
     "execution_count": 11,
     "metadata": {},
     "output_type": "execute_result"
    }
   ],
   "source": [
    "model_auto.summary()"
   ]
  },
  {
   "cell_type": "code",
   "execution_count": 12,
   "metadata": {},
   "outputs": [],
   "source": [
    "## Few quick comments\n",
    "# The rules of model selection are rather 'rules of thumb' than 'fixed'\n",
    "# Auto ARIMA only considers a single feature - the AIC\n",
    "# We could have easily overfitted while going through the models in previous exercises\n",
    "# The default arguments of the method restrict the number of AR and MA components"
   ]
  },
  {
   "cell_type": "markdown",
   "metadata": {},
   "source": [
    "## Important Arguments\n",
    "\n",
    "Now, let us loosen some of the restrictions and show how to use the auto_arima method to the fullest"
   ]
  },
  {
   "cell_type": "code",
   "execution_count": null,
   "metadata": {},
   "outputs": [],
   "source": [
    "# exogenous => outside factors (e.g other time series)\n",
    "# m => seasonal cycle length\n",
    "# max_order => maximum amount of variables to be used in the regression (p + q)\n",
    "# max_p => maximum AR components\n",
    "# max_q => maximum MA components\n",
    "# max_d => maximum integrations\n",
    "# maxiter => maximum iterations we're giving the model to converge the coefficients (becomes harder as the order increases)\n",
    "# return_valid_fits => whether or not the method should validate the results\n",
    "# alpha => level of significance, default is 5%, which we should be using most of the time\n",
    "# n_jobs => how many models to fit at a time (-1 indicates \"as many as possible\")\n",
    "# trend => \"ct\" usually - ct => constant\n",
    "# information_criterion => 'aic', 'aicc', 'bic', 'hqic', 'oob'\n",
    "#                          (Akaike Information Criterion, Corrected Akaike Information Criterion,\n",
    "#                          Baysian Information Criterion, Hannan-Quinn Information Criterion, or\n",
    "#                          \"out of bag\" -- for validation scoring -- respectively)\n",
    "# out_of_sample_size => validates the model selection (pass the entire dataset, and set 20% to be out_of_sample_size) \n",
    "\n",
    "model_auto = auto_arima(\n",
    "    df.ret_ftse[1:],\n",
    "    exogenous = df[['ret_spx', 'ret_dax', 'ret_nikkei']][1:],\n",
    "    # 5 business days\n",
    "    m = 5,\n",
    "    max_order = None,\n",
    "    max_p = 7,\n",
    "    max_q = 7,\n",
    "    max_d = 2,\n",
    "    # [start] Seasonal orders\n",
    "    max_P = 4,\n",
    "    max_Q = 4,\n",
    "    max_D = 2,\n",
    "    # [end] Seasonal orders\n",
    "    maxiter = 50,\n",
    "    alpha = 0.05,\n",
    "    n_jobs = -1,\n",
    "    trend = 'ct'\n",
    ")"
   ]
  }
 ],
 "metadata": {
  "kernelspec": {
   "display_name": "Python 3",
   "language": "python",
   "name": "python3"
  },
  "language_info": {
   "codemirror_mode": {
    "name": "ipython",
    "version": 3
   },
   "file_extension": ".py",
   "mimetype": "text/x-python",
   "name": "python",
   "nbconvert_exporter": "python",
   "pygments_lexer": "ipython3",
   "version": "3.7.4"
  }
 },
 "nbformat": 4,
 "nbformat_minor": 2
}
