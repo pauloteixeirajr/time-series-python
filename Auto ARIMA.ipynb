{
 "cells": [
  {
   "cell_type": "markdown",
   "metadata": {},
   "source": [
    "## Auto ARIMA Pros & Cons\n",
    "\n",
    "#### Pros\n",
    "- Saves time\n",
    "- Removes ambiguity\n",
    "- Reduce risk of human error\n",
    "\n",
    "#### Cons\n",
    "- Blindly putting our faith in one criterion\n",
    "- Never really see how well the other models perform\n",
    "- Topic expertise"
   ]
  },
  {
   "cell_type": "markdown",
   "metadata": {},
   "source": [
    "## Packages"
   ]
  },
  {
   "cell_type": "code",
   "execution_count": 1,
   "metadata": {},
   "outputs": [],
   "source": [
    "import numpy as np\n",
    "import pandas as pd\n",
    "import scipy\n",
    "import statsmodels.api as sm\n",
    "import matplotlib.pyplot as plt\n",
    "import seaborn as sns\n",
    "import sklearn\n",
    "from statsmodels.tsa.arima_model import ARIMA\n",
    "from arch import arch_model\n",
    "import yfinance\n",
    "import warnings\n",
    "warnings.filterwarnings('ignore')\n",
    "sns.set()"
   ]
  },
  {
   "cell_type": "code",
   "execution_count": 2,
   "metadata": {},
   "outputs": [
    {
     "name": "stdout",
     "output_type": "stream",
     "text": [
      "[*********************100%***********************]  4 of 4 completed\n"
     ]
    }
   ],
   "source": [
    "raw_data = yfinance.download(\n",
    "    tickers = '^GSPC ^FTSE ^N225 ^GDAXI',\n",
    "    start = '1994-01-07', end = '2018-01-29',\n",
    "    interval = '1d', group_by = 'ticker',\n",
    "    auto_adjust = True, treads = True\n",
    ")"
   ]
  },
  {
   "cell_type": "code",
   "execution_count": 3,
   "metadata": {},
   "outputs": [],
   "source": [
    "df_comp = raw_data.copy()"
   ]
  },
  {
   "cell_type": "code",
   "execution_count": 4,
   "metadata": {},
   "outputs": [],
   "source": [
    "df_comp['spx'] = df_comp['^GSPC'].Close[:]\n",
    "df_comp['dax'] = df_comp['^GDAXI'].Close[:]\n",
    "df_comp['ftse'] = df_comp['^FTSE'].Close[:]\n",
    "df_comp['nikkei'] = df_comp['^N225'].Close[:]"
   ]
  },
  {
   "cell_type": "code",
   "execution_count": 5,
   "metadata": {},
   "outputs": [],
   "source": [
    "df_comp = df_comp.iloc[1:]\n",
    "del df_comp['^GSPC']\n",
    "del df_comp['^GDAXI']\n",
    "del df_comp['^FTSE']\n",
    "del df_comp['^N225']\n",
    "df_comp = df_comp.asfreq('b')\n",
    "df_comp = df_comp.fillna(method = 'ffill')"
   ]
  },
  {
   "cell_type": "markdown",
   "metadata": {},
   "source": [
    "## Creating Returns"
   ]
  },
  {
   "cell_type": "code",
   "execution_count": 6,
   "metadata": {},
   "outputs": [],
   "source": [
    "df_comp['ret_spx'] = df_comp.spx.pct_change(1) * 100\n",
    "df_comp['ret_ftse'] = df_comp.ftse.pct_change(1) * 100\n",
    "df_comp['ret_dax'] = df_comp.dax.pct_change(1) * 100\n",
    "df_comp['ret_nikkei'] = df_comp.nikkei.pct_change(1) * 100"
   ]
  },
  {
   "cell_type": "markdown",
   "metadata": {},
   "source": [
    "## Splitting the Data"
   ]
  },
  {
   "cell_type": "code",
   "execution_count": 7,
   "metadata": {},
   "outputs": [],
   "source": [
    "size = int(len(df_comp) * 0.8)\n",
    "df, df_test = df_comp.iloc[:size], df_comp.iloc[size:]"
   ]
  },
  {
   "cell_type": "markdown",
   "metadata": {},
   "source": [
    "## Fitting a Model"
   ]
  },
  {
   "cell_type": "code",
   "execution_count": 8,
   "metadata": {},
   "outputs": [],
   "source": [
    "from pmdarima.arima import auto_arima"
   ]
  },
  {
   "cell_type": "code",
   "execution_count": null,
   "metadata": {},
   "outputs": [],
   "source": []
  }
 ],
 "metadata": {
  "kernelspec": {
   "display_name": "Python 3",
   "language": "python",
   "name": "python3"
  },
  "language_info": {
   "codemirror_mode": {
    "name": "ipython",
    "version": 3
   },
   "file_extension": ".py",
   "mimetype": "text/x-python",
   "name": "python",
   "nbconvert_exporter": "python",
   "pygments_lexer": "ipython3",
   "version": "3.7.4"
  }
 },
 "nbformat": 4,
 "nbformat_minor": 2
}
