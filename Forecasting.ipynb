{
 "cells": [
  {
   "cell_type": "markdown",
   "metadata": {},
   "source": [
    "## Packages"
   ]
  },
  {
   "cell_type": "code",
   "execution_count": 2,
   "metadata": {},
   "outputs": [],
   "source": [
    "import numpy as np\n",
    "import pandas as pd\n",
    "import scipy\n",
    "import statsmodels.api as sm\n",
    "import matplotlib.pyplot as plt\n",
    "import seaborn as sns\n",
    "import sklearn\n",
    "import statsmodels.graphics.tsaplots as sgt\n",
    "from statsmodels.tsa.arima_model import ARIMA\n",
    "from statsmodels.tsa.statespace.sarimax import SARIMAX\n",
    "from pmdarima.arima import auto_arima\n",
    "from arch import arch_model\n",
    "import yfinance\n",
    "import warnings\n",
    "warnings.filterwarnings('ignore')\n",
    "sns.set()"
   ]
  },
  {
   "cell_type": "markdown",
   "metadata": {},
   "source": [
    "## Loading the Data"
   ]
  },
  {
   "cell_type": "code",
   "execution_count": 3,
   "metadata": {},
   "outputs": [
    {
     "name": "stdout",
     "output_type": "stream",
     "text": [
      "[*********************100%***********************]  4 of 4 completed\n"
     ]
    }
   ],
   "source": [
    "raw_data = yfinance.download(\n",
    "    tickers = '^GSPC ^FTSE ^N225 ^GDAXI',\n",
    "    start = '1994-01-07', end = '2019-09-01',\n",
    "    interval = '1d', group_by = 'ticker',\n",
    "    auto_adjust = True, treads = True\n",
    ")"
   ]
  },
  {
   "cell_type": "code",
   "execution_count": 4,
   "metadata": {},
   "outputs": [],
   "source": [
    "df_comp = raw_data.copy()"
   ]
  },
  {
   "cell_type": "code",
   "execution_count": 5,
   "metadata": {},
   "outputs": [],
   "source": [
    "df_comp['spx'] = df_comp['^GSPC'].Close[:]\n",
    "df_comp['dax'] = df_comp['^GDAXI'].Close[:]\n",
    "df_comp['ftse'] = df_comp['^FTSE'].Close[:]\n",
    "df_comp['nikkei'] = df_comp['^N225'].Close[:]"
   ]
  },
  {
   "cell_type": "code",
   "execution_count": 6,
   "metadata": {},
   "outputs": [],
   "source": [
    "df_comp = df_comp.iloc[1:]\n",
    "del df_comp['^GSPC']\n",
    "del df_comp['^GDAXI']\n",
    "del df_comp['^FTSE']\n",
    "del df_comp['^N225']\n",
    "df_comp = df_comp.asfreq('b')\n",
    "df_comp = df_comp.fillna(method = 'ffill')"
   ]
  },
  {
   "cell_type": "markdown",
   "metadata": {},
   "source": [
    "## Creating Returns"
   ]
  },
  {
   "cell_type": "code",
   "execution_count": 7,
   "metadata": {},
   "outputs": [],
   "source": [
    "df_comp['ret_spx'] = df_comp.spx.pct_change(1).mul(100)\n",
    "df_comp['ret_ftse'] = df_comp.ftse.pct_change(1).mul(100)\n",
    "df_comp['ret_dax'] = df_comp.dax.pct_change(1).mul(100)\n",
    "df_comp['ret_nikkei'] = df_comp.nikkei.pct_change(1).mul(100)"
   ]
  },
  {
   "cell_type": "code",
   "execution_count": 8,
   "metadata": {},
   "outputs": [],
   "source": [
    "df_comp['norm_ret_spx'] = df_comp.ret_spx.div(df_comp.ret_spx[1]) * 100\n",
    "df_comp['norm_ret_ftse'] = df_comp.ret_ftse.div(df_comp.ret_ftse[1]) * 100\n",
    "df_comp['norm_ret_dax'] = df_comp.ret_dax.div(df_comp.ret_dax) * 100\n",
    "df_comp['norm_ret_nikkei'] = df_comp.ret_nikkei.div(df_comp.ret_nikkei) * 100"
   ]
  },
  {
   "cell_type": "markdown",
   "metadata": {},
   "source": [
    "## Splitting the Data"
   ]
  },
  {
   "cell_type": "code",
   "execution_count": 9,
   "metadata": {},
   "outputs": [],
   "source": [
    "size = int(len(df_comp) * 0.8)\n",
    "df, df_test = df_comp.iloc[:size], df_comp.iloc[size:]"
   ]
  },
  {
   "cell_type": "markdown",
   "metadata": {},
   "source": [
    "## Fitting a Model"
   ]
  },
  {
   "cell_type": "code",
   "execution_count": 10,
   "metadata": {},
   "outputs": [],
   "source": [
    "# AR(1) model\n",
    "model_ar = ARIMA(df.ftse, order = (1, 0, 0))\n",
    "results_ar = model_ar.fit()"
   ]
  },
  {
   "cell_type": "markdown",
   "metadata": {},
   "source": [
    "## Simple Forecasting"
   ]
  },
  {
   "cell_type": "code",
   "execution_count": 11,
   "metadata": {},
   "outputs": [
    {
     "data": {
      "text/html": [
       "<div>\n",
       "<style scoped>\n",
       "    .dataframe tbody tr th:only-of-type {\n",
       "        vertical-align: middle;\n",
       "    }\n",
       "\n",
       "    .dataframe tbody tr th {\n",
       "        vertical-align: top;\n",
       "    }\n",
       "\n",
       "    .dataframe thead tr th {\n",
       "        text-align: left;\n",
       "    }\n",
       "\n",
       "    .dataframe thead tr:last-of-type th {\n",
       "        text-align: right;\n",
       "    }\n",
       "</style>\n",
       "<table border=\"1\" class=\"dataframe\">\n",
       "  <thead>\n",
       "    <tr>\n",
       "      <th></th>\n",
       "      <th>spx</th>\n",
       "      <th>dax</th>\n",
       "      <th>ftse</th>\n",
       "      <th>nikkei</th>\n",
       "      <th>ret_spx</th>\n",
       "      <th>ret_ftse</th>\n",
       "      <th>ret_dax</th>\n",
       "      <th>ret_nikkei</th>\n",
       "      <th>norm_ret_spx</th>\n",
       "      <th>norm_ret_ftse</th>\n",
       "      <th>norm_ret_dax</th>\n",
       "      <th>norm_ret_nikkei</th>\n",
       "    </tr>\n",
       "    <tr>\n",
       "      <th></th>\n",
       "      <th></th>\n",
       "      <th></th>\n",
       "      <th></th>\n",
       "      <th></th>\n",
       "      <th></th>\n",
       "      <th></th>\n",
       "      <th></th>\n",
       "      <th></th>\n",
       "      <th></th>\n",
       "      <th></th>\n",
       "      <th></th>\n",
       "      <th></th>\n",
       "    </tr>\n",
       "    <tr>\n",
       "      <th>Date</th>\n",
       "      <th></th>\n",
       "      <th></th>\n",
       "      <th></th>\n",
       "      <th></th>\n",
       "      <th></th>\n",
       "      <th></th>\n",
       "      <th></th>\n",
       "      <th></th>\n",
       "      <th></th>\n",
       "      <th></th>\n",
       "      <th></th>\n",
       "      <th></th>\n",
       "    </tr>\n",
       "  </thead>\n",
       "  <tbody>\n",
       "    <tr>\n",
       "      <td>2014-07-09</td>\n",
       "      <td>1972.829956</td>\n",
       "      <td>9808.200195</td>\n",
       "      <td>6718.000000</td>\n",
       "      <td>15302.650391</td>\n",
       "      <td>0.464427</td>\n",
       "      <td>-0.304222</td>\n",
       "      <td>0.363568</td>\n",
       "      <td>-0.076789</td>\n",
       "      <td>-193.623849</td>\n",
       "      <td>39.056133</td>\n",
       "      <td>100.0</td>\n",
       "      <td>100.0</td>\n",
       "    </tr>\n",
       "    <tr>\n",
       "      <td>2014-07-10</td>\n",
       "      <td>1964.680054</td>\n",
       "      <td>9659.129883</td>\n",
       "      <td>6672.399902</td>\n",
       "      <td>15216.469727</td>\n",
       "      <td>-0.413107</td>\n",
       "      <td>-0.678775</td>\n",
       "      <td>-1.519854</td>\n",
       "      <td>-0.563175</td>\n",
       "      <td>172.228229</td>\n",
       "      <td>87.141370</td>\n",
       "      <td>100.0</td>\n",
       "      <td>100.0</td>\n",
       "    </tr>\n",
       "    <tr>\n",
       "      <td>2014-07-11</td>\n",
       "      <td>1967.569946</td>\n",
       "      <td>9666.339844</td>\n",
       "      <td>6690.200195</td>\n",
       "      <td>15164.040039</td>\n",
       "      <td>0.147092</td>\n",
       "      <td>0.266775</td>\n",
       "      <td>0.074644</td>\n",
       "      <td>-0.344559</td>\n",
       "      <td>-61.324138</td>\n",
       "      <td>-34.248669</td>\n",
       "      <td>100.0</td>\n",
       "      <td>100.0</td>\n",
       "    </tr>\n",
       "    <tr>\n",
       "      <td>2014-07-14</td>\n",
       "      <td>1977.099976</td>\n",
       "      <td>9783.009766</td>\n",
       "      <td>6746.100098</td>\n",
       "      <td>15296.820312</td>\n",
       "      <td>0.484355</td>\n",
       "      <td>0.835549</td>\n",
       "      <td>1.206971</td>\n",
       "      <td>0.875626</td>\n",
       "      <td>-201.932230</td>\n",
       "      <td>-107.268090</td>\n",
       "      <td>100.0</td>\n",
       "      <td>100.0</td>\n",
       "    </tr>\n",
       "    <tr>\n",
       "      <td>2014-07-15</td>\n",
       "      <td>1973.280029</td>\n",
       "      <td>9719.410156</td>\n",
       "      <td>6710.500000</td>\n",
       "      <td>15395.160156</td>\n",
       "      <td>-0.193210</td>\n",
       "      <td>-0.527714</td>\n",
       "      <td>-0.650103</td>\n",
       "      <td>0.642878</td>\n",
       "      <td>80.550866</td>\n",
       "      <td>67.748084</td>\n",
       "      <td>100.0</td>\n",
       "      <td>100.0</td>\n",
       "    </tr>\n",
       "  </tbody>\n",
       "</table>\n",
       "</div>"
      ],
      "text/plain": [
       "                    spx          dax         ftse        nikkei   ret_spx  \\\n",
       "                                                                            \n",
       "Date                                                                        \n",
       "2014-07-09  1972.829956  9808.200195  6718.000000  15302.650391  0.464427   \n",
       "2014-07-10  1964.680054  9659.129883  6672.399902  15216.469727 -0.413107   \n",
       "2014-07-11  1967.569946  9666.339844  6690.200195  15164.040039  0.147092   \n",
       "2014-07-14  1977.099976  9783.009766  6746.100098  15296.820312  0.484355   \n",
       "2014-07-15  1973.280029  9719.410156  6710.500000  15395.160156 -0.193210   \n",
       "\n",
       "            ret_ftse   ret_dax ret_nikkei norm_ret_spx norm_ret_ftse  \\\n",
       "                                                                       \n",
       "Date                                                                   \n",
       "2014-07-09 -0.304222  0.363568  -0.076789  -193.623849     39.056133   \n",
       "2014-07-10 -0.678775 -1.519854  -0.563175   172.228229     87.141370   \n",
       "2014-07-11  0.266775  0.074644  -0.344559   -61.324138    -34.248669   \n",
       "2014-07-14  0.835549  1.206971   0.875626  -201.932230   -107.268090   \n",
       "2014-07-15 -0.527714 -0.650103   0.642878    80.550866     67.748084   \n",
       "\n",
       "           norm_ret_dax norm_ret_nikkei  \n",
       "                                         \n",
       "Date                                     \n",
       "2014-07-09        100.0           100.0  \n",
       "2014-07-10        100.0           100.0  \n",
       "2014-07-11        100.0           100.0  \n",
       "2014-07-14        100.0           100.0  \n",
       "2014-07-15        100.0           100.0  "
      ]
     },
     "execution_count": 11,
     "metadata": {},
     "output_type": "execute_result"
    }
   ],
   "source": [
    "df.tail()"
   ]
  },
  {
   "cell_type": "code",
   "execution_count": 12,
   "metadata": {},
   "outputs": [],
   "source": [
    "# Create variables that will help us change the periods easily instead of typing them up every time\n",
    "# make sure the start and end dates are business days, otherwise the code will result in an error\n",
    "start_date = '2014-07-15'\n",
    "end_date = '2015-01-01'"
   ]
  },
  {
   "cell_type": "code",
   "execution_count": 13,
   "metadata": {},
   "outputs": [],
   "source": [
    "df_pred = results_ar.predict(start = start_date, end = end_date)"
   ]
  },
  {
   "cell_type": "code",
   "execution_count": 14,
   "metadata": {},
   "outputs": [
    {
     "data": {
      "image/png": "[encoded data removed]",
      "text/plain": [
       "<Figure size 1440x360 with 1 Axes>"
      ]
     },
     "metadata": {},
     "output_type": "display_data"
    }
   ],
   "source": [
    "df_pred[start_date:end_date].plot(figsize = (20, 5), color = 'red')\n",
    "df_test.ftse[start_date:end_date].plot(color = 'blue')\n",
    "plt.title('Predictions vs Actual', size = 24)\n",
    "plt.show()\n",
    "# The issue comes from our model of choice\n",
    "# The predictions are only based on the constant and the prices from the previous period\n",
    "# Every new value is just a fraction of the previou sone put on top of the constant term\n",
    "# The AR model is so bad at estimating non-stationary data"
   ]
  },
  {
   "cell_type": "code",
   "execution_count": null,
   "metadata": {},
   "outputs": [],
   "source": []
  }
 ],
 "metadata": {
  "kernelspec": {
   "display_name": "Python 3",
   "language": "python",
   "name": "python3"
  },
  "language_info": {
   "codemirror_mode": {
    "name": "ipython",
    "version": 3
   },
   "file_extension": ".py",
   "mimetype": "text/x-python",
   "name": "python",
   "nbconvert_exporter": "python",
   "pygments_lexer": "ipython3",
   "version": "3.7.4"
  }
 },
 "nbformat": 4,
 "nbformat_minor": 2
}
